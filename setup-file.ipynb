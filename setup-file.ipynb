{
 "cells": [
  {
   "cell_type": "code",
   "execution_count": 1,
   "id": "4d800932-9bf1-4b89-b648-9942c0abee56",
   "metadata": {},
   "outputs": [
    {
     "name": "stdout",
     "output_type": "stream",
     "text": [
      "🎯 Project structure created successfully! 🚀\n"
     ]
    }
   ],
   "source": [
    "import os\n",
    "\n",
    "# Project structure\n",
    "folders = [\n",
    "    \"data\",         # Folder to store raw datasets\n",
    "    \"models\",       # Folder to store saved models\n",
    "    \"notebooks\",    # Folder for all Jupyter notebooks\n",
    "    \"scripts\",      # Folder for helper scripts\n",
    "    \"docs\"          # Folder for reports and presentations\n",
    "]\n",
    "\n",
    "notebooks = [\n",
    "    \"01_data_exploration.ipynb\",\n",
    "    \"02_data_cleaning_preprocessing.ipynb\",\n",
    "    \"03_baseline_model.ipynb\",\n",
    "    \"04_advanced_models.ipynb\",\n",
    "    \"05_model_evaluation.ipynb\",\n",
    "    \"06_final_model_training.ipynb\",\n",
    "    \"07_submission_generation.ipynb\"\n",
    "]\n",
    "\n",
    "scripts = [\n",
    "    \"helper_functions.py\",          # Helper functions for common tasks\n",
    "    \"preprocessing.py\",  # Data cleaning & transformation functions\n",
    "    \"train_model.py\",    # Script to train models\n",
    "    \"evaluate_model.py\"  # Model evaluation script\n",
    "]\n",
    "\n",
    "# Create folders\n",
    "for folder in folders:\n",
    "    os.makedirs(folder, exist_ok=True)\n",
    "\n",
    "# Create empty Jupyter notebooks\n",
    "for notebook in notebooks:\n",
    "    open(os.path.join(\"notebooks\", notebook), 'a').close()\n",
    "\n",
    "# Create empty Python scripts\n",
    "for script in scripts:\n",
    "    open(os.path.join(\"scripts\", script), 'a').close()\n",
    "\n",
    "# Create README file\n",
    "readme_content = \"\"\"# Flight Delay Prediction Project\n",
    "This project aims to predict flight delays using machine learning techniques.\n",
    "\n",
    "## Project Structure\n",
    "- `data/` - Contains the dataset files (`Train.csv`, `Test.csv`, etc.).\n",
    "- `models/` - Stores trained models.\n",
    "- `notebooks/` - Jupyter Notebooks for EDA, preprocessing, modeling, and evaluation.\n",
    "- `scripts/` - Python scripts for preprocessing, model training, and evaluation.\n",
    "- `docs/` - Documentation, reports, and presentation files.\n",
    "\n",
    "## Uses\n",
    "1. Used `notebooks/01_data_exploration.ipynb` to explore data.\n",
    "2. Used `notebooks/02_data_cleaning_preprocessing.ipynb` to clean and preprocess data.\n",
    "3. Trained a baseline model in `notebooks/03_baseline_model.ipynb`.\n",
    "4. Experimented with advanced models in `notebooks/04_advanced_models.ipynb`.\n",
    "5. Evaluated model performance in `notebooks/05_model_evaluation.ipynb`.\n",
    "6. Trained the final model in `notebooks/06_final_model_training.ipynb`.\n",
    "7. Generated predictions for submission in `notebooks/07_submission_generation.ipynb`.\n",
    "\n",
    "## Contributors in alphabetical order\n",
    "- Eva\n",
    "- Jonas\n",
    "- Maren\n",
    "- Parya\n",
    "\n",
    "\"\"\"\n",
    "\n",
    "with open(\"Project_README.md\", \"w\") as f:\n",
    "    f.write(readme_content)\n",
    "\n",
    "print(\"🎯 Project structure created successfully! 🚀\")\n"
   ]
  },
  {
   "cell_type": "code",
   "execution_count": null,
   "id": "1ed0a8e3-8d21-4e84-b400-bc475ba3dcff",
   "metadata": {},
   "outputs": [],
   "source": []
  }
 ],
 "metadata": {
  "kernelspec": {
   "display_name": "Python 3 (ipykernel)",
   "language": "python",
   "name": "python3"
  },
  "language_info": {
   "codemirror_mode": {
    "name": "ipython",
    "version": 3
   },
   "file_extension": ".py",
   "mimetype": "text/x-python",
   "name": "python",
   "nbconvert_exporter": "python",
   "pygments_lexer": "ipython3",
   "version": "3.11.3"
  }
 },
 "nbformat": 4,
 "nbformat_minor": 5
}
