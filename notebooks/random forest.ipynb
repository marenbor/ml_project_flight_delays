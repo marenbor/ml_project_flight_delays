{
 "cells": [
  {
   "cell_type": "code",
   "execution_count": 4,
   "metadata": {},
   "outputs": [
    {
     "name": "stderr",
     "output_type": "stream",
     "text": [
      "/var/folders/ch/m_r4gx2901zdngn7fs_1cpm80000gn/T/ipykernel_3424/884042842.py:15: FutureWarning: DataFrame.fillna with 'method' is deprecated and will raise in a future version. Use obj.ffill() or obj.bfill() instead.\n",
      "  X_train.fillna(method='ffill', inplace=True)\n",
      "/var/folders/ch/m_r4gx2901zdngn7fs_1cpm80000gn/T/ipykernel_3424/884042842.py:16: FutureWarning: DataFrame.fillna with 'method' is deprecated and will raise in a future version. Use obj.ffill() or obj.bfill() instead.\n",
      "  X_test.fillna(method='ffill', inplace=True)\n"
     ]
    },
    {
     "name": "stdout",
     "output_type": "stream",
     "text": [
      "Mean Absolute Error (MAE): 1.3426\n",
      "R² Score: 0.1748\n",
      "\n",
      "Feature Importances:\n",
      "                      Feature  Importance\n",
      "89   type_dep_medium_airport    0.134199\n",
      "25      time_day_std_morning    0.126141\n",
      "85        iso_country_dep_TN    0.062855\n",
      "30      time_day_sta_morning    0.052439\n",
      "144   type_arr_large_airport    0.028048\n",
      "..                       ...         ...\n",
      "90    type_dep_small_airport    0.000001\n",
      "84        iso_country_dep_TG    0.000000\n",
      "74        iso_country_dep_RO    0.000000\n",
      "130       iso_country_arr_RO    0.000000\n",
      "46        iso_country_dep_DJ    0.000000\n",
      "\n",
      "[147 rows x 2 columns]\n"
     ]
    }
   ],
   "source": [
    "# Import necessary libraries\n",
    "import pandas as pd\n",
    "import numpy as np\n",
    "from sklearn.ensemble import RandomForestRegressor\n",
    "from sklearn.metrics import mean_absolute_error, r2_score\n",
    "\n",
    "# Load datasets (assuming they're in the same directory as this script)\n",
    "X_train = pd.read_csv(\"../data/X_train.csv\", dtype={'continent_dep': 'string', 'continent_arr': 'string'}, na_values=[''])\n",
    "y_train = pd.read_csv(\"../data/y_train.csv\")\n",
    "\n",
    "X_test = pd.read_csv(\"../data/X_test.csv\", dtype={'continent_dep': 'string', 'continent_arr': 'string'}, na_values=[''])\n",
    "y_test = pd.read_csv(\"../data/y_test.csv\")\n",
    "\n",
    "# Check for missing values and handle them if necessary\n",
    "X_train.fillna(method='ffill', inplace=True)\n",
    "X_test.fillna(method='ffill', inplace=True)\n",
    "\n",
    "# Convert y_train to 1D array (if needed)\n",
    "y_train = y_train.values.ravel()\n",
    "y_test = y_test.values.ravel()\n",
    "\n",
    "# Initialize the Random Forest Regressor\n",
    "rf_model = RandomForestRegressor(n_estimators=100, random_state=42, n_jobs=-1)\n",
    "\n",
    "# Train the model\n",
    "rf_model.fit(X_train, y_train)\n",
    "\n",
    "# Make predictions\n",
    "y_pred = rf_model.predict(X_test)\n",
    "\n",
    "# Evaluate the model\n",
    "mae = mean_absolute_error(y_test, y_pred)\n",
    "r2 = r2_score(y_test, y_pred)\n",
    "\n",
    "print(f\"Mean Absolute Error (MAE): {mae:.4f}\")\n",
    "print(f\"R² Score: {r2:.4f}\")\n",
    "\n",
    "# Optional: Feature Importance\n",
    "feature_importances = pd.DataFrame({'Feature': X_train.columns, 'Importance': rf_model.feature_importances_})\n",
    "feature_importances = feature_importances.sort_values(by='Importance', ascending=False)\n",
    "\n",
    "print(\"\\nFeature Importances:\\n\", feature_importances)\n"
   ]
  }
 ],
 "metadata": {
  "kernelspec": {
   "display_name": "Python (.venv)",
   "language": "python",
   "name": ".venv"
  },
  "language_info": {
   "codemirror_mode": {
    "name": "ipython",
    "version": 3
   },
   "file_extension": ".py",
   "mimetype": "text/x-python",
   "name": "python",
   "nbconvert_exporter": "python",
   "pygments_lexer": "ipython3",
   "version": "3.11.3"
  }
 },
 "nbformat": 4,
 "nbformat_minor": 2
}
