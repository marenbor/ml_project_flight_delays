{
 "cells": [
  {
   "cell_type": "code",
   "execution_count": 4,
   "metadata": {},
   "outputs": [],
   "source": [
    "import pandas as pd\n",
    "import numpy as np\n",
    "import warnings\n",
    "warnings.filterwarnings('ignore')\n",
    "\n",
    "import matplotlib.pyplot as plt\n",
    "import seaborn as sns\n",
    "\n",
    "from sklearn.model_selection import train_test_split\n"
   ]
  },
  {
   "cell_type": "code",
   "execution_count": 5,
   "metadata": {},
   "outputs": [
    {
     "data": {
      "text/html": [
       "<div>\n",
       "<style scoped>\n",
       "    .dataframe tbody tr th:only-of-type {\n",
       "        vertical-align: middle;\n",
       "    }\n",
       "\n",
       "    .dataframe tbody tr th {\n",
       "        vertical-align: top;\n",
       "    }\n",
       "\n",
       "    .dataframe thead th {\n",
       "        text-align: right;\n",
       "    }\n",
       "</style>\n",
       "<table border=\"1\" class=\"dataframe\">\n",
       "  <thead>\n",
       "    <tr style=\"text-align: right;\">\n",
       "      <th></th>\n",
       "      <th>id</th>\n",
       "      <th>target</th>\n",
       "      <th>airline</th>\n",
       "      <th>day_of_week</th>\n",
       "      <th>time_day_std</th>\n",
       "      <th>time_day_sta</th>\n",
       "      <th>continent_dep</th>\n",
       "      <th>iso_country_dep</th>\n",
       "      <th>type_dep</th>\n",
       "      <th>continent_arr</th>\n",
       "      <th>iso_country_arr</th>\n",
       "      <th>type_arr</th>\n",
       "      <th>is_same_country</th>\n",
       "    </tr>\n",
       "  </thead>\n",
       "  <tbody>\n",
       "    <tr>\n",
       "      <th>0</th>\n",
       "      <td>train_id_0</td>\n",
       "      <td>260.0</td>\n",
       "      <td>TU</td>\n",
       "      <td>Sunday</td>\n",
       "      <td>morning</td>\n",
       "      <td>midday</td>\n",
       "      <td>AF</td>\n",
       "      <td>MA</td>\n",
       "      <td>large_airport</td>\n",
       "      <td>AF</td>\n",
       "      <td>TN</td>\n",
       "      <td>large_airport</td>\n",
       "      <td>0.0</td>\n",
       "    </tr>\n",
       "    <tr>\n",
       "      <th>1</th>\n",
       "      <td>train_id_1</td>\n",
       "      <td>20.0</td>\n",
       "      <td>TU</td>\n",
       "      <td>Wednesday</td>\n",
       "      <td>afternoon</td>\n",
       "      <td>afternoon</td>\n",
       "      <td>EU</td>\n",
       "      <td>IT</td>\n",
       "      <td>large_airport</td>\n",
       "      <td>AF</td>\n",
       "      <td>TN</td>\n",
       "      <td>large_airport</td>\n",
       "      <td>0.0</td>\n",
       "    </tr>\n",
       "    <tr>\n",
       "      <th>2</th>\n",
       "      <td>train_id_2</td>\n",
       "      <td>0.0</td>\n",
       "      <td>TU</td>\n",
       "      <td>Saturday</td>\n",
       "      <td>night</td>\n",
       "      <td>morning</td>\n",
       "      <td>AF</td>\n",
       "      <td>TN</td>\n",
       "      <td>large_airport</td>\n",
       "      <td>EU</td>\n",
       "      <td>TR</td>\n",
       "      <td>large_airport</td>\n",
       "      <td>0.0</td>\n",
       "    </tr>\n",
       "    <tr>\n",
       "      <th>3</th>\n",
       "      <td>train_id_3</td>\n",
       "      <td>0.0</td>\n",
       "      <td>TU</td>\n",
       "      <td>Sunday</td>\n",
       "      <td>afternoon</td>\n",
       "      <td>evening</td>\n",
       "      <td>AF</td>\n",
       "      <td>TN</td>\n",
       "      <td>medium_airport</td>\n",
       "      <td>EU</td>\n",
       "      <td>FR</td>\n",
       "      <td>medium_airport</td>\n",
       "      <td>0.0</td>\n",
       "    </tr>\n",
       "    <tr>\n",
       "      <th>4</th>\n",
       "      <td>train_id_4</td>\n",
       "      <td>22.0</td>\n",
       "      <td>TU</td>\n",
       "      <td>Sunday</td>\n",
       "      <td>afternoon</td>\n",
       "      <td>afternoon</td>\n",
       "      <td>AF</td>\n",
       "      <td>TN</td>\n",
       "      <td>large_airport</td>\n",
       "      <td>AF</td>\n",
       "      <td>DZ</td>\n",
       "      <td>large_airport</td>\n",
       "      <td>0.0</td>\n",
       "    </tr>\n",
       "  </tbody>\n",
       "</table>\n",
       "</div>"
      ],
      "text/plain": [
       "           id  target airline day_of_week time_day_std time_day_sta   \n",
       "0  train_id_0   260.0      TU      Sunday      morning       midday  \\\n",
       "1  train_id_1    20.0      TU   Wednesday    afternoon    afternoon   \n",
       "2  train_id_2     0.0      TU    Saturday        night      morning   \n",
       "3  train_id_3     0.0      TU      Sunday    afternoon      evening   \n",
       "4  train_id_4    22.0      TU      Sunday    afternoon    afternoon   \n",
       "\n",
       "  continent_dep iso_country_dep        type_dep continent_arr iso_country_arr   \n",
       "0            AF              MA   large_airport            AF              TN  \\\n",
       "1            EU              IT   large_airport            AF              TN   \n",
       "2            AF              TN   large_airport            EU              TR   \n",
       "3            AF              TN  medium_airport            EU              FR   \n",
       "4            AF              TN   large_airport            AF              DZ   \n",
       "\n",
       "         type_arr  is_same_country  \n",
       "0   large_airport              0.0  \n",
       "1   large_airport              0.0  \n",
       "2   large_airport              0.0  \n",
       "3  medium_airport              0.0  \n",
       "4   large_airport              0.0  "
      ]
     },
     "execution_count": 5,
     "metadata": {},
     "output_type": "execute_result"
    }
   ],
   "source": [
    "# Load the data\n",
    "df = pd.read_csv('../data/train_cleaned.csv', dtype={'continent_dep': 'string', 'continent_arr': 'string'}, na_values=[''])\n",
    "df.head()\n"
   ]
  },
  {
   "cell_type": "code",
   "execution_count": 6,
   "metadata": {},
   "outputs": [],
   "source": [
    "# Split the data into features and target label\n",
    "X = df.drop(['target', 'id'], axis=1)\n",
    "y = df['target']"
   ]
  },
  {
   "cell_type": "code",
   "execution_count": 7,
   "metadata": {},
   "outputs": [],
   "source": [
    "#Log transform the target\n",
    "y = np.log1p(y)"
   ]
  },
  {
   "cell_type": "code",
   "execution_count": 8,
   "metadata": {},
   "outputs": [],
   "source": [
    "# Split the data into training and testing sets\n",
    "X_train, X_test, y_train, y_test = train_test_split(X, y, test_size=0.2, random_state=42)"
   ]
  },
  {
   "cell_type": "code",
   "execution_count": 9,
   "metadata": {},
   "outputs": [],
   "source": [
    "# one hot encoding of features"
   ]
  },
  {
   "cell_type": "code",
   "execution_count": 10,
   "metadata": {},
   "outputs": [],
   "source": [
    "# save X_train, X_test, y_train, y_test in csv files\n",
    "X_train.to_csv('../data/X_train.csv', index=False)\n",
    "X_test.to_csv('../data/X_test.csv', index=False)\n",
    "y_train.to_csv('../data/y_train.csv', index=False)\n",
    "y_test.to_csv('../data/y_test.csv', index=False)"
   ]
  },
  {
   "cell_type": "markdown",
   "metadata": {},
   "source": [
    "## here maybe scaling of features, as distribution is skewed"
   ]
  },
  {
   "cell_type": "code",
   "execution_count": null,
   "metadata": {},
   "outputs": [
    {
     "ename": "KeyboardInterrupt",
     "evalue": "",
     "output_type": "error",
     "traceback": [
      "\u001b[31m---------------------------------------------------------------------------\u001b[39m",
      "\u001b[31mKeyboardInterrupt\u001b[39m                         Traceback (most recent call last)",
      "\u001b[36mCell\u001b[39m\u001b[36m \u001b[39m\u001b[32mIn[29]\u001b[39m\u001b[32m, line 4\u001b[39m\n\u001b[32m      2\u001b[39m \u001b[38;5;28;01mfor\u001b[39;00m column \u001b[38;5;129;01min\u001b[39;00m df.columns:\n\u001b[32m      3\u001b[39m     plt.figure(figsize=(\u001b[32m10\u001b[39m, \u001b[32m6\u001b[39m))\n\u001b[32m----> \u001b[39m\u001b[32m4\u001b[39m     \u001b[43msns\u001b[49m\u001b[43m.\u001b[49m\u001b[43mhistplot\u001b[49m\u001b[43m(\u001b[49m\u001b[43mdf\u001b[49m\u001b[43m[\u001b[49m\u001b[43mcolumn\u001b[49m\u001b[43m]\u001b[49m\u001b[43m,\u001b[49m\u001b[43m \u001b[49m\u001b[43mkde\u001b[49m\u001b[43m=\u001b[49m\u001b[38;5;28;43;01mTrue\u001b[39;49;00m\u001b[43m)\u001b[49m\n\u001b[32m      5\u001b[39m     plt.title(\u001b[33mf\u001b[39m\u001b[33m'\u001b[39m\u001b[33mHistogram of \u001b[39m\u001b[38;5;132;01m{\u001b[39;00mcolumn\u001b[38;5;132;01m}\u001b[39;00m\u001b[33m'\u001b[39m)\n\u001b[32m      6\u001b[39m     plt.show()\n",
      "\u001b[36mFile \u001b[39m\u001b[32m~/Library/CloudStorage/OneDrive-Persönlich/Dokumente/neue_fische/exercise_repo/22_my_ml_project/.venv/lib/python3.11/site-packages/seaborn/distributions.py:1432\u001b[39m, in \u001b[36mhistplot\u001b[39m\u001b[34m(data, x, y, hue, weights, stat, bins, binwidth, binrange, discrete, cumulative, common_bins, common_norm, multiple, element, fill, shrink, kde, kde_kws, line_kws, thresh, pthresh, pmax, cbar, cbar_ax, cbar_kws, palette, hue_order, hue_norm, color, log_scale, legend, ax, **kwargs)\u001b[39m\n\u001b[32m   1421\u001b[39m estimate_kws = \u001b[38;5;28mdict\u001b[39m(\n\u001b[32m   1422\u001b[39m     stat=stat,\n\u001b[32m   1423\u001b[39m     bins=bins,\n\u001b[32m   (...)\u001b[39m\u001b[32m   1427\u001b[39m     cumulative=cumulative,\n\u001b[32m   1428\u001b[39m )\n\u001b[32m   1430\u001b[39m \u001b[38;5;28;01mif\u001b[39;00m p.univariate:\n\u001b[32m-> \u001b[39m\u001b[32m1432\u001b[39m     \u001b[43mp\u001b[49m\u001b[43m.\u001b[49m\u001b[43mplot_univariate_histogram\u001b[49m\u001b[43m(\u001b[49m\n\u001b[32m   1433\u001b[39m \u001b[43m        \u001b[49m\u001b[43mmultiple\u001b[49m\u001b[43m=\u001b[49m\u001b[43mmultiple\u001b[49m\u001b[43m,\u001b[49m\n\u001b[32m   1434\u001b[39m \u001b[43m        \u001b[49m\u001b[43melement\u001b[49m\u001b[43m=\u001b[49m\u001b[43melement\u001b[49m\u001b[43m,\u001b[49m\n\u001b[32m   1435\u001b[39m \u001b[43m        \u001b[49m\u001b[43mfill\u001b[49m\u001b[43m=\u001b[49m\u001b[43mfill\u001b[49m\u001b[43m,\u001b[49m\n\u001b[32m   1436\u001b[39m \u001b[43m        \u001b[49m\u001b[43mshrink\u001b[49m\u001b[43m=\u001b[49m\u001b[43mshrink\u001b[49m\u001b[43m,\u001b[49m\n\u001b[32m   1437\u001b[39m \u001b[43m        \u001b[49m\u001b[43mcommon_norm\u001b[49m\u001b[43m=\u001b[49m\u001b[43mcommon_norm\u001b[49m\u001b[43m,\u001b[49m\n\u001b[32m   1438\u001b[39m \u001b[43m        \u001b[49m\u001b[43mcommon_bins\u001b[49m\u001b[43m=\u001b[49m\u001b[43mcommon_bins\u001b[49m\u001b[43m,\u001b[49m\n\u001b[32m   1439\u001b[39m \u001b[43m        \u001b[49m\u001b[43mkde\u001b[49m\u001b[43m=\u001b[49m\u001b[43mkde\u001b[49m\u001b[43m,\u001b[49m\n\u001b[32m   1440\u001b[39m \u001b[43m        \u001b[49m\u001b[43mkde_kws\u001b[49m\u001b[43m=\u001b[49m\u001b[43mkde_kws\u001b[49m\u001b[43m,\u001b[49m\n\u001b[32m   1441\u001b[39m \u001b[43m        \u001b[49m\u001b[43mcolor\u001b[49m\u001b[43m=\u001b[49m\u001b[43mcolor\u001b[49m\u001b[43m,\u001b[49m\n\u001b[32m   1442\u001b[39m \u001b[43m        \u001b[49m\u001b[43mlegend\u001b[49m\u001b[43m=\u001b[49m\u001b[43mlegend\u001b[49m\u001b[43m,\u001b[49m\n\u001b[32m   1443\u001b[39m \u001b[43m        \u001b[49m\u001b[43mestimate_kws\u001b[49m\u001b[43m=\u001b[49m\u001b[43mestimate_kws\u001b[49m\u001b[43m,\u001b[49m\n\u001b[32m   1444\u001b[39m \u001b[43m        \u001b[49m\u001b[43mline_kws\u001b[49m\u001b[43m=\u001b[49m\u001b[43mline_kws\u001b[49m\u001b[43m,\u001b[49m\n\u001b[32m   1445\u001b[39m \u001b[43m        \u001b[49m\u001b[43m*\u001b[49m\u001b[43m*\u001b[49m\u001b[43mkwargs\u001b[49m\u001b[43m,\u001b[49m\n\u001b[32m   1446\u001b[39m \u001b[43m    \u001b[49m\u001b[43m)\u001b[49m\n\u001b[32m   1448\u001b[39m \u001b[38;5;28;01melse\u001b[39;00m:\n\u001b[32m   1450\u001b[39m     p.plot_bivariate_histogram(\n\u001b[32m   1451\u001b[39m         common_bins=common_bins,\n\u001b[32m   1452\u001b[39m         common_norm=common_norm,\n\u001b[32m   (...)\u001b[39m\u001b[32m   1462\u001b[39m         **kwargs,\n\u001b[32m   1463\u001b[39m     )\n",
      "\u001b[36mFile \u001b[39m\u001b[32m~/Library/CloudStorage/OneDrive-Persönlich/Dokumente/neue_fische/exercise_repo/22_my_ml_project/.venv/lib/python3.11/site-packages/seaborn/distributions.py:729\u001b[39m, in \u001b[36m_DistributionPlotter.plot_univariate_histogram\u001b[39m\u001b[34m(self, multiple, element, fill, common_norm, common_bins, shrink, kde, kde_kws, color, legend, line_kws, estimate_kws, **plot_kws)\u001b[39m\n\u001b[32m    727\u001b[39m \u001b[38;5;28;01mif\u001b[39;00m \u001b[38;5;28mself\u001b[39m.data_variable == \u001b[33m\"\u001b[39m\u001b[33my\u001b[39m\u001b[33m\"\u001b[39m:\n\u001b[32m    728\u001b[39m     default_x = estimator.stat.capitalize()\n\u001b[32m--> \u001b[39m\u001b[32m729\u001b[39m \u001b[38;5;28;43mself\u001b[39;49m\u001b[43m.\u001b[49m\u001b[43m_add_axis_labels\u001b[49m\u001b[43m(\u001b[49m\u001b[43max\u001b[49m\u001b[43m,\u001b[49m\u001b[43m \u001b[49m\u001b[43mdefault_x\u001b[49m\u001b[43m,\u001b[49m\u001b[43m \u001b[49m\u001b[43mdefault_y\u001b[49m\u001b[43m)\u001b[49m\n\u001b[32m    731\u001b[39m \u001b[38;5;66;03m# Legend for semantic variables\u001b[39;00m\n\u001b[32m    732\u001b[39m \u001b[38;5;28;01mif\u001b[39;00m \u001b[33m\"\u001b[39m\u001b[33mhue\u001b[39m\u001b[33m\"\u001b[39m \u001b[38;5;129;01min\u001b[39;00m \u001b[38;5;28mself\u001b[39m.variables \u001b[38;5;129;01mand\u001b[39;00m legend:\n",
      "\u001b[36mFile \u001b[39m\u001b[32m~/Library/CloudStorage/OneDrive-Persönlich/Dokumente/neue_fische/exercise_repo/22_my_ml_project/.venv/lib/python3.11/site-packages/seaborn/_oldcore.py:1328\u001b[39m, in \u001b[36mVectorPlotter._add_axis_labels\u001b[39m\u001b[34m(self, ax, default_x, default_y)\u001b[39m\n\u001b[32m   1323\u001b[39m \u001b[38;5;66;03m# TODO ax could default to None and use attached axes if present\u001b[39;00m\n\u001b[32m   1324\u001b[39m \u001b[38;5;66;03m# but what to do about the case of facets? Currently using FacetGrid's\u001b[39;00m\n\u001b[32m   1325\u001b[39m \u001b[38;5;66;03m# set_axis_labels method, which doesn't add labels to the interior even\u001b[39;00m\n\u001b[32m   1326\u001b[39m \u001b[38;5;66;03m# when the axes are not shared. Maybe that makes sense?\u001b[39;00m\n\u001b[32m   1327\u001b[39m \u001b[38;5;28;01mif\u001b[39;00m \u001b[38;5;129;01mnot\u001b[39;00m ax.get_xlabel():\n\u001b[32m-> \u001b[39m\u001b[32m1328\u001b[39m     x_visible = \u001b[38;5;28many\u001b[39m(t.get_visible() \u001b[38;5;28;01mfor\u001b[39;00m t \u001b[38;5;129;01min\u001b[39;00m \u001b[43max\u001b[49m\u001b[43m.\u001b[49m\u001b[43mget_xticklabels\u001b[49m\u001b[43m(\u001b[49m\u001b[43m)\u001b[49m)\n\u001b[32m   1329\u001b[39m     ax.set_xlabel(\u001b[38;5;28mself\u001b[39m.variables.get(\u001b[33m\"\u001b[39m\u001b[33mx\u001b[39m\u001b[33m\"\u001b[39m, default_x), visible=x_visible)\n\u001b[32m   1330\u001b[39m \u001b[38;5;28;01mif\u001b[39;00m \u001b[38;5;129;01mnot\u001b[39;00m ax.get_ylabel():\n",
      "\u001b[36mFile \u001b[39m\u001b[32m~/Library/CloudStorage/OneDrive-Persönlich/Dokumente/neue_fische/exercise_repo/22_my_ml_project/.venv/lib/python3.11/site-packages/matplotlib/axes/_base.py:74\u001b[39m, in \u001b[36m_axis_method_wrapper.__set_name__.<locals>.wrapper\u001b[39m\u001b[34m(self, *args, **kwargs)\u001b[39m\n\u001b[32m     73\u001b[39m \u001b[38;5;28;01mdef\u001b[39;00m\u001b[38;5;250m \u001b[39m\u001b[34mwrapper\u001b[39m(\u001b[38;5;28mself\u001b[39m, *args, **kwargs):\n\u001b[32m---> \u001b[39m\u001b[32m74\u001b[39m     \u001b[38;5;28;01mreturn\u001b[39;00m \u001b[43mget_method\u001b[49m\u001b[43m(\u001b[49m\u001b[38;5;28;43mself\u001b[39;49m\u001b[43m)\u001b[49m\u001b[43m(\u001b[49m\u001b[43m*\u001b[49m\u001b[43margs\u001b[49m\u001b[43m,\u001b[49m\u001b[43m \u001b[49m\u001b[43m*\u001b[49m\u001b[43m*\u001b[49m\u001b[43mkwargs\u001b[49m\u001b[43m)\u001b[49m\n",
      "\u001b[36mFile \u001b[39m\u001b[32m~/Library/CloudStorage/OneDrive-Persönlich/Dokumente/neue_fische/exercise_repo/22_my_ml_project/.venv/lib/python3.11/site-packages/matplotlib/axis.py:1456\u001b[39m, in \u001b[36mAxis.get_ticklabels\u001b[39m\u001b[34m(self, minor, which)\u001b[39m\n\u001b[32m   1454\u001b[39m \u001b[38;5;28;01mif\u001b[39;00m minor:\n\u001b[32m   1455\u001b[39m     \u001b[38;5;28;01mreturn\u001b[39;00m \u001b[38;5;28mself\u001b[39m.get_minorticklabels()\n\u001b[32m-> \u001b[39m\u001b[32m1456\u001b[39m \u001b[38;5;28;01mreturn\u001b[39;00m \u001b[38;5;28;43mself\u001b[39;49m\u001b[43m.\u001b[49m\u001b[43mget_majorticklabels\u001b[49m\u001b[43m(\u001b[49m\u001b[43m)\u001b[49m\n",
      "\u001b[36mFile \u001b[39m\u001b[32m~/Library/CloudStorage/OneDrive-Persönlich/Dokumente/neue_fische/exercise_repo/22_my_ml_project/.venv/lib/python3.11/site-packages/matplotlib/axis.py:1413\u001b[39m, in \u001b[36mAxis.get_majorticklabels\u001b[39m\u001b[34m(self)\u001b[39m\n\u001b[32m   1411\u001b[39m \u001b[38;5;28;01mdef\u001b[39;00m\u001b[38;5;250m \u001b[39m\u001b[34mget_majorticklabels\u001b[39m(\u001b[38;5;28mself\u001b[39m):\n\u001b[32m   1412\u001b[39m \u001b[38;5;250m    \u001b[39m\u001b[33;03m\"\"\"Return this Axis' major tick labels, as a list of `~.text.Text`.\"\"\"\u001b[39;00m\n\u001b[32m-> \u001b[39m\u001b[32m1413\u001b[39m     \u001b[38;5;28;43mself\u001b[39;49m\u001b[43m.\u001b[49m\u001b[43m_update_ticks\u001b[49m\u001b[43m(\u001b[49m\u001b[43m)\u001b[49m\n\u001b[32m   1414\u001b[39m     ticks = \u001b[38;5;28mself\u001b[39m.get_major_ticks()\n\u001b[32m   1415\u001b[39m     labels1 = [tick.label1 \u001b[38;5;28;01mfor\u001b[39;00m tick \u001b[38;5;129;01min\u001b[39;00m ticks \u001b[38;5;28;01mif\u001b[39;00m tick.label1.get_visible()]\n",
      "\u001b[36mFile \u001b[39m\u001b[32m~/Library/CloudStorage/OneDrive-Persönlich/Dokumente/neue_fische/exercise_repo/22_my_ml_project/.venv/lib/python3.11/site-packages/matplotlib/axis.py:1264\u001b[39m, in \u001b[36mAxis._update_ticks\u001b[39m\u001b[34m(self)\u001b[39m\n\u001b[32m   1262\u001b[39m major_locs = \u001b[38;5;28mself\u001b[39m.get_majorticklocs()\n\u001b[32m   1263\u001b[39m major_labels = \u001b[38;5;28mself\u001b[39m.major.formatter.format_ticks(major_locs)\n\u001b[32m-> \u001b[39m\u001b[32m1264\u001b[39m major_ticks = \u001b[38;5;28;43mself\u001b[39;49m\u001b[43m.\u001b[49m\u001b[43mget_major_ticks\u001b[49m\u001b[43m(\u001b[49m\u001b[38;5;28;43mlen\u001b[39;49m\u001b[43m(\u001b[49m\u001b[43mmajor_locs\u001b[49m\u001b[43m)\u001b[49m\u001b[43m)\u001b[49m\n\u001b[32m   1265\u001b[39m \u001b[38;5;28mself\u001b[39m.major.formatter.set_locs(major_locs)\n\u001b[32m   1266\u001b[39m \u001b[38;5;28;01mfor\u001b[39;00m tick, loc, label \u001b[38;5;129;01min\u001b[39;00m \u001b[38;5;28mzip\u001b[39m(major_ticks, major_locs, major_labels):\n",
      "\u001b[36mFile \u001b[39m\u001b[32m~/Library/CloudStorage/OneDrive-Persönlich/Dokumente/neue_fische/exercise_repo/22_my_ml_project/.venv/lib/python3.11/site-packages/matplotlib/axis.py:1604\u001b[39m, in \u001b[36mAxis.get_major_ticks\u001b[39m\u001b[34m(self, numticks)\u001b[39m\n\u001b[32m   1602\u001b[39m     tick = \u001b[38;5;28mself\u001b[39m._get_tick(major=\u001b[38;5;28;01mTrue\u001b[39;00m)\n\u001b[32m   1603\u001b[39m     \u001b[38;5;28mself\u001b[39m.majorTicks.append(tick)\n\u001b[32m-> \u001b[39m\u001b[32m1604\u001b[39m     \u001b[38;5;28;43mself\u001b[39;49m\u001b[43m.\u001b[49m\u001b[43m_copy_tick_props\u001b[49m\u001b[43m(\u001b[49m\u001b[38;5;28;43mself\u001b[39;49m\u001b[43m.\u001b[49m\u001b[43mmajorTicks\u001b[49m\u001b[43m[\u001b[49m\u001b[32;43m0\u001b[39;49m\u001b[43m]\u001b[49m\u001b[43m,\u001b[49m\u001b[43m \u001b[49m\u001b[43mtick\u001b[49m\u001b[43m)\u001b[49m\n\u001b[32m   1606\u001b[39m \u001b[38;5;28;01mreturn\u001b[39;00m \u001b[38;5;28mself\u001b[39m.majorTicks[:numticks]\n",
      "\u001b[36mFile \u001b[39m\u001b[32m~/Library/CloudStorage/OneDrive-Persönlich/Dokumente/neue_fische/exercise_repo/22_my_ml_project/.venv/lib/python3.11/site-packages/matplotlib/axis.py:1571\u001b[39m, in \u001b[36mAxis._copy_tick_props\u001b[39m\u001b[34m(self, src, dest)\u001b[39m\n\u001b[32m   1569\u001b[39m dest.label1.update_from(src.label1)\n\u001b[32m   1570\u001b[39m dest.label2.update_from(src.label2)\n\u001b[32m-> \u001b[39m\u001b[32m1571\u001b[39m \u001b[43mdest\u001b[49m\u001b[43m.\u001b[49m\u001b[43mtick1line\u001b[49m\u001b[43m.\u001b[49m\u001b[43mupdate_from\u001b[49m\u001b[43m(\u001b[49m\u001b[43msrc\u001b[49m\u001b[43m.\u001b[49m\u001b[43mtick1line\u001b[49m\u001b[43m)\u001b[49m\n\u001b[32m   1572\u001b[39m dest.tick2line.update_from(src.tick2line)\n\u001b[32m   1573\u001b[39m dest.gridline.update_from(src.gridline)\n",
      "\u001b[36mFile \u001b[39m\u001b[32m~/Library/CloudStorage/OneDrive-Persönlich/Dokumente/neue_fische/exercise_repo/22_my_ml_project/.venv/lib/python3.11/site-packages/matplotlib/lines.py:1355\u001b[39m, in \u001b[36mLine2D.update_from\u001b[39m\u001b[34m(self, other)\u001b[39m\n\u001b[32m   1352\u001b[39m \u001b[38;5;28mself\u001b[39m._solidjoinstyle = other._solidjoinstyle\n\u001b[32m   1354\u001b[39m \u001b[38;5;28mself\u001b[39m._linestyle = other._linestyle\n\u001b[32m-> \u001b[39m\u001b[32m1355\u001b[39m \u001b[38;5;28mself\u001b[39m._marker = \u001b[43mMarkerStyle\u001b[49m\u001b[43m(\u001b[49m\u001b[43mmarker\u001b[49m\u001b[43m=\u001b[49m\u001b[43mother\u001b[49m\u001b[43m.\u001b[49m\u001b[43m_marker\u001b[49m\u001b[43m)\u001b[49m\n\u001b[32m   1356\u001b[39m \u001b[38;5;28mself\u001b[39m._drawstyle = other._drawstyle\n",
      "\u001b[36mFile \u001b[39m\u001b[32m~/Library/CloudStorage/OneDrive-Persönlich/Dokumente/neue_fische/exercise_repo/22_my_ml_project/.venv/lib/python3.11/site-packages/matplotlib/markers.py:272\u001b[39m, in \u001b[36mMarkerStyle.__init__\u001b[39m\u001b[34m(self, marker, fillstyle, transform, capstyle, joinstyle)\u001b[39m\n\u001b[32m    267\u001b[39m     marker = \u001b[33m\"\u001b[39m\u001b[33m\"\u001b[39m\n\u001b[32m    268\u001b[39m     _api.warn_deprecated(\n\u001b[32m    269\u001b[39m         \u001b[33m\"\u001b[39m\u001b[33m3.6\u001b[39m\u001b[33m\"\u001b[39m, message=\u001b[33m\"\u001b[39m\u001b[33mMarkerStyle(None) is deprecated since \u001b[39m\u001b[33m\"\u001b[39m\n\u001b[32m    270\u001b[39m         \u001b[33m\"\u001b[39m\u001b[38;5;132;01m%(since)s\u001b[39;00m\u001b[33m; support will be removed \u001b[39m\u001b[38;5;132;01m%(removal)s\u001b[39;00m\u001b[33m.  Use \u001b[39m\u001b[33m\"\u001b[39m\n\u001b[32m    271\u001b[39m         \u001b[33m\"\u001b[39m\u001b[33mMarkerStyle(\u001b[39m\u001b[33m'\u001b[39m\u001b[33m'\u001b[39m\u001b[33m) to construct an empty MarkerStyle.\u001b[39m\u001b[33m\"\u001b[39m)\n\u001b[32m--> \u001b[39m\u001b[32m272\u001b[39m \u001b[38;5;28;43mself\u001b[39;49m\u001b[43m.\u001b[49m\u001b[43m_set_marker\u001b[49m\u001b[43m(\u001b[49m\u001b[43mmarker\u001b[49m\u001b[43m)\u001b[49m\n",
      "\u001b[36mFile \u001b[39m\u001b[32m~/Library/CloudStorage/OneDrive-Persönlich/Dokumente/neue_fische/exercise_repo/22_my_ml_project/.venv/lib/python3.11/site-packages/matplotlib/markers.py:355\u001b[39m, in \u001b[36mMarkerStyle._set_marker\u001b[39m\u001b[34m(self, marker)\u001b[39m\n\u001b[32m    352\u001b[39m     \u001b[38;5;28mself\u001b[39m._marker_function = \u001b[38;5;28mgetattr\u001b[39m(\n\u001b[32m    353\u001b[39m         \u001b[38;5;28mself\u001b[39m, \u001b[33m'\u001b[39m\u001b[33m_set_\u001b[39m\u001b[33m'\u001b[39m + \u001b[38;5;28mself\u001b[39m.markers[marker])\n\u001b[32m    354\u001b[39m \u001b[38;5;28;01melif\u001b[39;00m \u001b[38;5;28misinstance\u001b[39m(marker, MarkerStyle):\n\u001b[32m--> \u001b[39m\u001b[32m355\u001b[39m     \u001b[38;5;28mself\u001b[39m.\u001b[34m__dict__\u001b[39m = \u001b[43mcopy\u001b[49m\u001b[43m.\u001b[49m\u001b[43mdeepcopy\u001b[49m\u001b[43m(\u001b[49m\u001b[43mmarker\u001b[49m\u001b[43m.\u001b[49m\u001b[34;43m__dict__\u001b[39;49m\u001b[43m)\u001b[49m\n\u001b[32m    357\u001b[39m \u001b[38;5;28;01melse\u001b[39;00m:\n\u001b[32m    358\u001b[39m     \u001b[38;5;28;01mtry\u001b[39;00m:\n",
      "\u001b[36mFile \u001b[39m\u001b[32m~/.pyenv/versions/3.11.3/lib/python3.11/copy.py:146\u001b[39m, in \u001b[36mdeepcopy\u001b[39m\u001b[34m(x, memo, _nil)\u001b[39m\n\u001b[32m    144\u001b[39m copier = _deepcopy_dispatch.get(\u001b[38;5;28mcls\u001b[39m)\n\u001b[32m    145\u001b[39m \u001b[38;5;28;01mif\u001b[39;00m copier \u001b[38;5;129;01mis\u001b[39;00m \u001b[38;5;129;01mnot\u001b[39;00m \u001b[38;5;28;01mNone\u001b[39;00m:\n\u001b[32m--> \u001b[39m\u001b[32m146\u001b[39m     y = \u001b[43mcopier\u001b[49m\u001b[43m(\u001b[49m\u001b[43mx\u001b[49m\u001b[43m,\u001b[49m\u001b[43m \u001b[49m\u001b[43mmemo\u001b[49m\u001b[43m)\u001b[49m\n\u001b[32m    147\u001b[39m \u001b[38;5;28;01melse\u001b[39;00m:\n\u001b[32m    148\u001b[39m     \u001b[38;5;28;01mif\u001b[39;00m \u001b[38;5;28missubclass\u001b[39m(\u001b[38;5;28mcls\u001b[39m, \u001b[38;5;28mtype\u001b[39m):\n",
      "\u001b[36mFile \u001b[39m\u001b[32m~/.pyenv/versions/3.11.3/lib/python3.11/copy.py:231\u001b[39m, in \u001b[36m_deepcopy_dict\u001b[39m\u001b[34m(x, memo, deepcopy)\u001b[39m\n\u001b[32m    229\u001b[39m memo[\u001b[38;5;28mid\u001b[39m(x)] = y\n\u001b[32m    230\u001b[39m \u001b[38;5;28;01mfor\u001b[39;00m key, value \u001b[38;5;129;01min\u001b[39;00m x.items():\n\u001b[32m--> \u001b[39m\u001b[32m231\u001b[39m     y[deepcopy(key, memo)] = \u001b[43mdeepcopy\u001b[49m\u001b[43m(\u001b[49m\u001b[43mvalue\u001b[49m\u001b[43m,\u001b[49m\u001b[43m \u001b[49m\u001b[43mmemo\u001b[49m\u001b[43m)\u001b[49m\n\u001b[32m    232\u001b[39m \u001b[38;5;28;01mreturn\u001b[39;00m y\n",
      "\u001b[36mFile \u001b[39m\u001b[32m~/.pyenv/versions/3.11.3/lib/python3.11/copy.py:172\u001b[39m, in \u001b[36mdeepcopy\u001b[39m\u001b[34m(x, memo, _nil)\u001b[39m\n\u001b[32m    170\u001b[39m                 y = x\n\u001b[32m    171\u001b[39m             \u001b[38;5;28;01melse\u001b[39;00m:\n\u001b[32m--> \u001b[39m\u001b[32m172\u001b[39m                 y = \u001b[43m_reconstruct\u001b[49m\u001b[43m(\u001b[49m\u001b[43mx\u001b[49m\u001b[43m,\u001b[49m\u001b[43m \u001b[49m\u001b[43mmemo\u001b[49m\u001b[43m,\u001b[49m\u001b[43m \u001b[49m\u001b[43m*\u001b[49m\u001b[43mrv\u001b[49m\u001b[43m)\u001b[49m\n\u001b[32m    174\u001b[39m \u001b[38;5;66;03m# If is its own copy, don't memoize.\u001b[39;00m\n\u001b[32m    175\u001b[39m \u001b[38;5;28;01mif\u001b[39;00m y \u001b[38;5;129;01mis\u001b[39;00m \u001b[38;5;129;01mnot\u001b[39;00m x:\n",
      "\u001b[31mKeyboardInterrupt\u001b[39m: "
     ]
    }
   ],
   "source": [
    "# Create histograms for every feature in the dataframe\n",
    "for column in df.columns:\n",
    "    plt.figure(figsize=(10, 6))\n",
    "    sns.histplot(df[column], kde=True)\n",
    "    plt.title(f'Histogram of {column}')\n",
    "    plt.show()"
   ]
  }
 ],
 "metadata": {
  "kernelspec": {
   "display_name": ".venv",
   "language": "python",
   "name": "python3"
  },
  "language_info": {
   "codemirror_mode": {
    "name": "ipython",
    "version": 3
   },
   "file_extension": ".py",
   "mimetype": "text/x-python",
   "name": "python",
   "nbconvert_exporter": "python",
   "pygments_lexer": "ipython3",
   "version": "3.11.3"
  }
 },
 "nbformat": 4,
 "nbformat_minor": 4
}
