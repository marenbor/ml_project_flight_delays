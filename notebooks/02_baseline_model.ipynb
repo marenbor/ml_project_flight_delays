{
 "cells": [
  {
   "cell_type": "markdown",
   "id": "feb9cbd4-11c6-461f-b1ca-659748b47ea7",
   "metadata": {},
   "source": [
    "## Creating a baseline model using the cleaned data (before advanced feature engineering)"
   ]
  },
  {
   "cell_type": "code",
   "execution_count": 2,
   "id": "34691ca6-8b3d-4053-b21b-b99b96ab5e2f",
   "metadata": {},
   "outputs": [],
   "source": [
    "# Import the necessary packages\n",
    "import os\n",
    "\n",
    "# For calculating\n",
    "import pandas as pd\n",
    "import numpy as np\n",
    "import warnings\n",
    "warnings.filterwarnings('ignore')\n",
    "\n",
    "#for modeling\n",
    "from sklearn.model_selection import train_test_split\n",
    "from sklearn.linear_model import LinearRegression\n",
    "from sklearn.metrics import mean_absolute_error, mean_squared_error\n",
    "from sklearn.preprocessing import StandardScaler\n",
    "\n",
    "# for plotting\n",
    "import matplotlib.pyplot as plt\n",
    "import seaborn as sns\n"
   ]
  },
  {
   "cell_type": "code",
   "execution_count": 3,
   "id": "cc1dbb92-e93b-4d90-9794-08aae17cc320",
   "metadata": {},
   "outputs": [],
   "source": [
    "X_train = pd.read_csv(\"../data/X_train.csv\", dtype={'continent_dep': 'string', 'continent_arr': 'string'}, na_values=[''])\n",
    "y_train = pd.read_csv(\"../data/y_train.csv\")\n",
    "X_test = pd.read_csv(\"../data/X_test.csv\", dtype={'continent_dep': 'string', 'continent_arr': 'string'}, na_values=[''])\n",
    "y_test = pd.read_csv(\"../data/y_test.csv\")"
   ]
  },
  {
   "cell_type": "code",
   "execution_count": 4,
   "id": "fda19d2d-955b-47d1-b504-df2b0825f654",
   "metadata": {},
   "outputs": [
    {
     "name": "stdout",
     "output_type": "stream",
     "text": [
      "X_train shape: (74943, 137)\n",
      "X_test shape: (18736, 137)\n"
     ]
    }
   ],
   "source": [
    "print(f\"X_train shape: {X_train.shape}\")\n",
    "print(f\"X_test shape: {X_test.shape}\")\n"
   ]
  },
  {
   "cell_type": "code",
   "execution_count": 5,
   "id": "c50dff2d-376e-42e1-b43c-ff14398bca4e",
   "metadata": {},
   "outputs": [
    {
     "name": "stdout",
     "output_type": "stream",
     "text": [
      "Remaining Features in X_train:\n",
      "Index(['is_same_country', 'airline_5M', 'airline_6P', 'airline_BJ',\n",
      "       'airline_D4', 'airline_GJ', 'airline_GW', 'airline_OL', 'airline_PS',\n",
      "       'airline_QS',\n",
      "       ...\n",
      "       'iso_country_arr_SE', 'iso_country_arr_SI', 'iso_country_arr_SK',\n",
      "       'iso_country_arr_SN', 'iso_country_arr_TG', 'iso_country_arr_TN',\n",
      "       'iso_country_arr_TR', 'iso_country_arr_UA', 'type_arr_medium_airport',\n",
      "       'type_arr_small_airport'],\n",
      "      dtype='object', length=137)\n"
     ]
    }
   ],
   "source": [
    "print(\"Remaining Features in X_train:\")\n",
    "print(X_train.columns)"
   ]
  },
  {
   "cell_type": "code",
   "execution_count": 6,
   "id": "fd595802-6532-4d2c-9763-286b068d93ed",
   "metadata": {},
   "outputs": [
    {
     "name": "stdout",
     "output_type": "stream",
     "text": [
      "Model Performance on Test Set:\n",
      "Mean Absolute Error (MAE): 151971083.12\n",
      "Root Mean Squared Error (RMSE): 14936703842.84\n"
     ]
    }
   ],
   "source": [
    "# Initialize Linear Regression model\n",
    "baseline_model = LinearRegression()\n",
    "\n",
    "# Train the model\n",
    "baseline_model.fit(X_train, y_train)\n",
    "\n",
    "# Make predictions on the test set\n",
    "y_pred = baseline_model.predict(X_test)\n",
    "\n",
    "# Evaluate the model\n",
    "mae = mean_absolute_error(y_test, y_pred)\n",
    "mse = mean_squared_error(y_test, y_pred)\n",
    "rmse = np.sqrt(mse)\n",
    "\n",
    "# Print results\n",
    "print(f\"Model Performance on Test Set:\")\n",
    "print(f\"Mean Absolute Error (MAE): {mae:.2f}\")\n",
    "print(f\"Root Mean Squared Error (RMSE): {rmse:.2f}\")\n"
   ]
  },
  {
   "cell_type": "code",
   "execution_count": null,
   "id": "dc6b3039-40dc-4d4a-ac3e-8b69cf499c78",
   "metadata": {},
   "outputs": [],
   "source": []
  }
 ],
 "metadata": {
  "kernelspec": {
   "display_name": "Python 3 (ipykernel)",
   "language": "python",
   "name": "python3"
  },
  "language_info": {
   "codemirror_mode": {
    "name": "ipython",
    "version": 3
   },
   "file_extension": ".py",
   "mimetype": "text/x-python",
   "name": "python",
   "nbconvert_exporter": "python",
   "pygments_lexer": "ipython3",
   "version": "3.11.3"
  }
 },
 "nbformat": 4,
 "nbformat_minor": 5
}
