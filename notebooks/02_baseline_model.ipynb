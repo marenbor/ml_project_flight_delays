{
 "cells": [
  {
   "cell_type": "markdown",
   "id": "feb9cbd4-11c6-461f-b1ca-659748b47ea7",
   "metadata": {},
   "source": [
    "## Creating a baseline model using the cleaned data (before advanced feature engineering)"
   ]
  },
  {
   "cell_type": "code",
   "execution_count": 29,
   "id": "34691ca6-8b3d-4053-b21b-b99b96ab5e2f",
   "metadata": {},
   "outputs": [],
   "source": [
    "# Import the necessary packages\n",
    "import os\n",
    "\n",
    "# For calculating\n",
    "import pandas as pd\n",
    "import numpy as np\n",
    "import warnings\n",
    "warnings.filterwarnings('ignore')\n",
    "\n",
    "#for modeling\n",
    "from sklearn.model_selection import train_test_split\n",
    "from sklearn.linear_model import LinearRegression\n",
    "from sklearn.metrics import mean_absolute_error, mean_squared_error\n",
    "from sklearn.preprocessing import StandardScaler\n",
    "\n",
    "# for plotting\n",
    "import matplotlib.pyplot as plt\n",
    "import seaborn as sns\n"
   ]
  },
  {
   "cell_type": "code",
   "execution_count": 11,
   "id": "083d29aa-aeca-40df-b81e-97e18fd23556",
   "metadata": {
    "jupyter": {
     "source_hidden": true
    }
   },
   "outputs": [
    {
     "data": {
      "text/html": [
       "<div>\n",
       "<style scoped>\n",
       "    .dataframe tbody tr th:only-of-type {\n",
       "        vertical-align: middle;\n",
       "    }\n",
       "\n",
       "    .dataframe tbody tr th {\n",
       "        vertical-align: top;\n",
       "    }\n",
       "\n",
       "    .dataframe thead th {\n",
       "        text-align: right;\n",
       "    }\n",
       "</style>\n",
       "<table border=\"1\" class=\"dataframe\">\n",
       "  <thead>\n",
       "    <tr style=\"text-align: right;\">\n",
       "      <th></th>\n",
       "      <th>id</th>\n",
       "      <th>target</th>\n",
       "      <th>airline</th>\n",
       "      <th>day_of_week</th>\n",
       "      <th>continent_dep</th>\n",
       "      <th>iso_country_dep</th>\n",
       "      <th>type_dep</th>\n",
       "      <th>continent_arr</th>\n",
       "      <th>iso_country_arr</th>\n",
       "      <th>type_arr</th>\n",
       "      <th>is_same_country</th>\n",
       "    </tr>\n",
       "  </thead>\n",
       "  <tbody>\n",
       "    <tr>\n",
       "      <th>0</th>\n",
       "      <td>train_id_0</td>\n",
       "      <td>260.0</td>\n",
       "      <td>TU</td>\n",
       "      <td>Sunday</td>\n",
       "      <td>AF</td>\n",
       "      <td>MA</td>\n",
       "      <td>large_airport</td>\n",
       "      <td>AF</td>\n",
       "      <td>TN</td>\n",
       "      <td>large_airport</td>\n",
       "      <td>0.0</td>\n",
       "    </tr>\n",
       "    <tr>\n",
       "      <th>1</th>\n",
       "      <td>train_id_1</td>\n",
       "      <td>20.0</td>\n",
       "      <td>TU</td>\n",
       "      <td>Wednesday</td>\n",
       "      <td>EU</td>\n",
       "      <td>IT</td>\n",
       "      <td>large_airport</td>\n",
       "      <td>AF</td>\n",
       "      <td>TN</td>\n",
       "      <td>large_airport</td>\n",
       "      <td>0.0</td>\n",
       "    </tr>\n",
       "    <tr>\n",
       "      <th>2</th>\n",
       "      <td>train_id_2</td>\n",
       "      <td>0.0</td>\n",
       "      <td>TU</td>\n",
       "      <td>Saturday</td>\n",
       "      <td>AF</td>\n",
       "      <td>TN</td>\n",
       "      <td>large_airport</td>\n",
       "      <td>EU</td>\n",
       "      <td>TR</td>\n",
       "      <td>large_airport</td>\n",
       "      <td>0.0</td>\n",
       "    </tr>\n",
       "    <tr>\n",
       "      <th>3</th>\n",
       "      <td>train_id_3</td>\n",
       "      <td>0.0</td>\n",
       "      <td>TU</td>\n",
       "      <td>Sunday</td>\n",
       "      <td>AF</td>\n",
       "      <td>TN</td>\n",
       "      <td>medium_airport</td>\n",
       "      <td>EU</td>\n",
       "      <td>FR</td>\n",
       "      <td>medium_airport</td>\n",
       "      <td>0.0</td>\n",
       "    </tr>\n",
       "    <tr>\n",
       "      <th>4</th>\n",
       "      <td>train_id_4</td>\n",
       "      <td>22.0</td>\n",
       "      <td>TU</td>\n",
       "      <td>Sunday</td>\n",
       "      <td>AF</td>\n",
       "      <td>TN</td>\n",
       "      <td>large_airport</td>\n",
       "      <td>AF</td>\n",
       "      <td>DZ</td>\n",
       "      <td>large_airport</td>\n",
       "      <td>0.0</td>\n",
       "    </tr>\n",
       "  </tbody>\n",
       "</table>\n",
       "</div>"
      ],
      "text/plain": [
       "           id  target airline day_of_week continent_dep iso_country_dep   \n",
       "0  train_id_0   260.0      TU      Sunday            AF              MA  \\\n",
       "1  train_id_1    20.0      TU   Wednesday            EU              IT   \n",
       "2  train_id_2     0.0      TU    Saturday            AF              TN   \n",
       "3  train_id_3     0.0      TU      Sunday            AF              TN   \n",
       "4  train_id_4    22.0      TU      Sunday            AF              TN   \n",
       "\n",
       "         type_dep continent_arr iso_country_arr        type_arr   \n",
       "0   large_airport            AF              TN   large_airport  \\\n",
       "1   large_airport            AF              TN   large_airport   \n",
       "2   large_airport            EU              TR   large_airport   \n",
       "3  medium_airport            EU              FR  medium_airport   \n",
       "4   large_airport            AF              DZ   large_airport   \n",
       "\n",
       "   is_same_country  \n",
       "0              0.0  \n",
       "1              0.0  \n",
       "2              0.0  \n",
       "3              0.0  \n",
       "4              0.0  "
      ]
     },
     "execution_count": 11,
     "metadata": {},
     "output_type": "execute_result"
    }
   ],
   "source": [
    "# load the cleaned data \n",
    "df = pd.read_csv('../data/train_cleaned.csv', dtype={'continent_dep': 'string', 'continent_arr': 'string'}, na_values=[''])\n",
    "df.head(5)"
   ]
  },
  {
   "cell_type": "code",
   "execution_count": 12,
   "id": "bf9574b3-cdce-4599-b8c0-ba4d39c338db",
   "metadata": {
    "collapsed": true,
    "jupyter": {
     "outputs_hidden": true,
     "source_hidden": true
    }
   },
   "outputs": [
    {
     "name": "stdout",
     "output_type": "stream",
     "text": [
      "<class 'pandas.core.frame.DataFrame'>\n",
      "RangeIndex: 93679 entries, 0 to 93678\n",
      "Data columns (total 11 columns):\n",
      " #   Column           Non-Null Count  Dtype  \n",
      "---  ------           --------------  -----  \n",
      " 0   id               93679 non-null  object \n",
      " 1   target           93679 non-null  float64\n",
      " 2   airline          93679 non-null  object \n",
      " 3   day_of_week      93679 non-null  object \n",
      " 4   continent_dep    93437 non-null  string \n",
      " 5   iso_country_dep  93679 non-null  object \n",
      " 6   type_dep         93679 non-null  object \n",
      " 7   continent_arr    93437 non-null  string \n",
      " 8   iso_country_arr  93679 non-null  object \n",
      " 9   type_arr         93679 non-null  object \n",
      " 10  is_same_country  93679 non-null  float64\n",
      "dtypes: float64(2), object(7), string(2)\n",
      "memory usage: 7.9+ MB\n"
     ]
    }
   ],
   "source": [
    "df.info()"
   ]
  },
  {
   "cell_type": "code",
   "execution_count": 13,
   "id": "0f599f94-eadd-4d9c-969b-3f86bf1941fe",
   "metadata": {
    "collapsed": true,
    "jupyter": {
     "outputs_hidden": true,
     "source_hidden": true
    }
   },
   "outputs": [
    {
     "data": {
      "text/plain": [
       "Index(['id', 'target', 'airline', 'day_of_week', 'continent_dep',\n",
       "       'iso_country_dep', 'type_dep', 'continent_arr', 'iso_country_arr',\n",
       "       'type_arr', 'is_same_country'],\n",
       "      dtype='object')"
      ]
     },
     "execution_count": 13,
     "metadata": {},
     "output_type": "execute_result"
    }
   ],
   "source": [
    "df.columns"
   ]
  },
  {
   "cell_type": "code",
   "execution_count": 16,
   "id": "e74e0835-242f-4615-8cad-4e46158d9501",
   "metadata": {},
   "outputs": [
    {
     "name": "stdout",
     "output_type": "stream",
     "text": [
      "Training set: (74943, 129), Test set: (18736, 129)\n"
     ]
    }
   ],
   "source": [
    "# Define features and the target \n",
    "X = df.drop(columns=['target'])\n",
    "y = df['target']\n",
    "\n",
    "# Save 'id' column separately for reference (I'm not sure it should be included as a feature) \n",
    "id_column = X['id']\n",
    "\n",
    "# Identify categorical and numerical features\n",
    "cat_features = X.select_dtypes(include=['object', 'string']).columns.drop('id')  # Exclude 'id'\n",
    "num_features = X.select_dtypes(include=['float64', 'int64']).columns\n",
    "\n",
    "# One-Hot Encode categorical features\n",
    "X_encoded = pd.get_dummies(X.drop(columns=['id']), columns=cat_features, drop_first=True)\n",
    "\n",
    "# Split the data into training (80%) and testing (20%)\n",
    "X_train, X_test, y_train, y_test = train_test_split(X_encoded, y, test_size=0.2, random_state=42)\n",
    "\n",
    "print(f\"Training set: {X_train.shape}, Test set: {X_test.shape}\")\n"
   ]
  },
  {
   "cell_type": "code",
   "execution_count": 24,
   "id": "fdbce20d-7cc7-4d77-8d2c-173798b0d4dd",
   "metadata": {},
   "outputs": [
    {
     "data": {
      "text/html": [
       "<div>\n",
       "<style scoped>\n",
       "    .dataframe tbody tr th:only-of-type {\n",
       "        vertical-align: middle;\n",
       "    }\n",
       "\n",
       "    .dataframe tbody tr th {\n",
       "        vertical-align: top;\n",
       "    }\n",
       "\n",
       "    .dataframe thead th {\n",
       "        text-align: right;\n",
       "    }\n",
       "</style>\n",
       "<table border=\"1\" class=\"dataframe\">\n",
       "  <thead>\n",
       "    <tr style=\"text-align: right;\">\n",
       "      <th></th>\n",
       "      <th>is_same_country</th>\n",
       "      <th>airline_5M</th>\n",
       "      <th>airline_6P</th>\n",
       "      <th>airline_BJ</th>\n",
       "      <th>airline_D4</th>\n",
       "      <th>airline_GJ</th>\n",
       "      <th>airline_GW</th>\n",
       "      <th>airline_OL</th>\n",
       "      <th>airline_PS</th>\n",
       "      <th>airline_QS</th>\n",
       "      <th>...</th>\n",
       "      <th>iso_country_arr_SE</th>\n",
       "      <th>iso_country_arr_SI</th>\n",
       "      <th>iso_country_arr_SK</th>\n",
       "      <th>iso_country_arr_SN</th>\n",
       "      <th>iso_country_arr_TG</th>\n",
       "      <th>iso_country_arr_TN</th>\n",
       "      <th>iso_country_arr_TR</th>\n",
       "      <th>iso_country_arr_UA</th>\n",
       "      <th>type_arr_medium_airport</th>\n",
       "      <th>type_arr_small_airport</th>\n",
       "    </tr>\n",
       "  </thead>\n",
       "  <tbody>\n",
       "    <tr>\n",
       "      <th>0</th>\n",
       "      <td>0.0</td>\n",
       "      <td>False</td>\n",
       "      <td>False</td>\n",
       "      <td>False</td>\n",
       "      <td>False</td>\n",
       "      <td>False</td>\n",
       "      <td>False</td>\n",
       "      <td>False</td>\n",
       "      <td>False</td>\n",
       "      <td>False</td>\n",
       "      <td>...</td>\n",
       "      <td>False</td>\n",
       "      <td>False</td>\n",
       "      <td>False</td>\n",
       "      <td>False</td>\n",
       "      <td>False</td>\n",
       "      <td>True</td>\n",
       "      <td>False</td>\n",
       "      <td>False</td>\n",
       "      <td>False</td>\n",
       "      <td>False</td>\n",
       "    </tr>\n",
       "    <tr>\n",
       "      <th>1</th>\n",
       "      <td>0.0</td>\n",
       "      <td>False</td>\n",
       "      <td>False</td>\n",
       "      <td>False</td>\n",
       "      <td>False</td>\n",
       "      <td>False</td>\n",
       "      <td>False</td>\n",
       "      <td>False</td>\n",
       "      <td>False</td>\n",
       "      <td>False</td>\n",
       "      <td>...</td>\n",
       "      <td>False</td>\n",
       "      <td>False</td>\n",
       "      <td>False</td>\n",
       "      <td>False</td>\n",
       "      <td>False</td>\n",
       "      <td>True</td>\n",
       "      <td>False</td>\n",
       "      <td>False</td>\n",
       "      <td>False</td>\n",
       "      <td>False</td>\n",
       "    </tr>\n",
       "  </tbody>\n",
       "</table>\n",
       "<p>2 rows × 129 columns</p>\n",
       "</div>"
      ],
      "text/plain": [
       "   is_same_country  airline_5M  airline_6P  airline_BJ  airline_D4   \n",
       "0              0.0       False       False       False       False  \\\n",
       "1              0.0       False       False       False       False   \n",
       "\n",
       "   airline_GJ  airline_GW  airline_OL  airline_PS  airline_QS  ...   \n",
       "0       False       False       False       False       False  ...  \\\n",
       "1       False       False       False       False       False  ...   \n",
       "\n",
       "   iso_country_arr_SE  iso_country_arr_SI  iso_country_arr_SK   \n",
       "0               False               False               False  \\\n",
       "1               False               False               False   \n",
       "\n",
       "   iso_country_arr_SN  iso_country_arr_TG  iso_country_arr_TN   \n",
       "0               False               False                True  \\\n",
       "1               False               False                True   \n",
       "\n",
       "   iso_country_arr_TR  iso_country_arr_UA  type_arr_medium_airport   \n",
       "0               False               False                    False  \\\n",
       "1               False               False                    False   \n",
       "\n",
       "   type_arr_small_airport  \n",
       "0                   False  \n",
       "1                   False  \n",
       "\n",
       "[2 rows x 129 columns]"
      ]
     },
     "execution_count": 24,
     "metadata": {},
     "output_type": "execute_result"
    }
   ],
   "source": [
    "# Check to see how the ccat_features have been encoded \n",
    "X_encoded.head(2)"
   ]
  },
  {
   "cell_type": "code",
   "execution_count": 25,
   "id": "1dc25842-a5d2-4bc1-a7a3-0f8a393c01d7",
   "metadata": {},
   "outputs": [
    {
     "name": "stdout",
     "output_type": "stream",
     "text": [
      "       is_same_country\n",
      "count     74943.000000\n",
      "mean          0.071227\n",
      "std           0.257206\n",
      "min           0.000000\n",
      "25%           0.000000\n",
      "50%           0.000000\n",
      "75%           0.000000\n",
      "max           1.000000\n"
     ]
    }
   ],
   "source": [
    "print(X_train.describe())"
   ]
  },
  {
   "cell_type": "code",
   "execution_count": 26,
   "id": "0b22fdf1-9e86-4cbe-aa61-12a9b121c4f5",
   "metadata": {},
   "outputs": [
    {
     "name": "stdout",
     "output_type": "stream",
     "text": [
      "Target Value Range:\n",
      "count    93679.000000\n",
      "mean        55.655099\n",
      "std        123.262956\n",
      "min          0.000000\n",
      "25%          0.000000\n",
      "50%         19.000000\n",
      "75%         50.000000\n",
      "max       3451.000000\n",
      "Name: target, dtype: float64\n"
     ]
    }
   ],
   "source": [
    "# Check the target value\n",
    "print(\"Target Value Range:\")\n",
    "print(y.describe())"
   ]
  },
  {
   "cell_type": "markdown",
   "id": "9b40e9a8-c036-4f55-8a0b-87e11d6a2984",
   "metadata": {},
   "source": [
    "Maximum Delay: 3451 minutes\n",
    "\n",
    "Some extreme delays exist (almost 57 hours delay)!!\n",
    "This indicates possible outliers.\n",
    "\n",
    "**Should we include them or deal with them from our baseline model?**"
   ]
  },
  {
   "cell_type": "code",
   "execution_count": 27,
   "id": "fda19d2d-955b-47d1-b504-df2b0825f654",
   "metadata": {
    "collapsed": true,
    "jupyter": {
     "outputs_hidden": true,
     "source_hidden": true
    }
   },
   "outputs": [
    {
     "name": "stdout",
     "output_type": "stream",
     "text": [
      "X_train shape: (74943, 129)\n",
      "X_test shape: (18736, 129)\n"
     ]
    }
   ],
   "source": [
    "print(f\"X_train shape: {X_train.shape}\")\n",
    "print(f\"X_test shape: {X_test.shape}\")\n"
   ]
  },
  {
   "cell_type": "code",
   "execution_count": 28,
   "id": "c50dff2d-376e-42e1-b43c-ff14398bca4e",
   "metadata": {
    "jupyter": {
     "source_hidden": true
    }
   },
   "outputs": [
    {
     "name": "stdout",
     "output_type": "stream",
     "text": [
      "Remaining Features in X_train:\n",
      "Index(['is_same_country', 'airline_5M', 'airline_6P', 'airline_BJ',\n",
      "       'airline_D4', 'airline_GJ', 'airline_GW', 'airline_OL', 'airline_PS',\n",
      "       'airline_QS',\n",
      "       ...\n",
      "       'iso_country_arr_SE', 'iso_country_arr_SI', 'iso_country_arr_SK',\n",
      "       'iso_country_arr_SN', 'iso_country_arr_TG', 'iso_country_arr_TN',\n",
      "       'iso_country_arr_TR', 'iso_country_arr_UA', 'type_arr_medium_airport',\n",
      "       'type_arr_small_airport'],\n",
      "      dtype='object', length=129)\n"
     ]
    }
   ],
   "source": [
    "print(\"Remaining Features in X_train:\")\n",
    "print(X_train.columns)"
   ]
  },
  {
   "cell_type": "markdown",
   "id": "e0681b79-bc19-465f-bef4-f2abefa8433f",
   "metadata": {},
   "source": [
    "length=129 --> OneHotEncoder created the new columns from our cat features"
   ]
  },
  {
   "cell_type": "code",
   "execution_count": null,
   "id": "c7010731-c434-426b-90d8-893afbaef80e",
   "metadata": {},
   "outputs": [],
   "source": [
    "# Initialize the scaler\n",
    "scaler = StandardScaler()\n",
    "\n",
    "# Scale only numerical features (in this case, 'is_same_country')\n",
    "X_train[['is_same_country']] = scaler.fit_transform(X_train[['is_same_country']])\n",
    "X_test[['is_same_country']] = scaler.transform(X_test[['is_same_country']])\n",
    "\n",
    "print(\"Numerical Features Scaled Successfully!\")\n"
   ]
  },
  {
   "cell_type": "code",
   "execution_count": 19,
   "id": "fd595802-6532-4d2c-9763-286b068d93ed",
   "metadata": {},
   "outputs": [
    {
     "name": "stdout",
     "output_type": "stream",
     "text": [
      "Model Performance on Test Set:\n",
      "Mean Absolute Error (MAE): 758948915.45\n",
      "Root Mean Squared Error (RMSE): 74503199314.11\n"
     ]
    }
   ],
   "source": [
    "# Initialize Linear Regression model\n",
    "baseline_model = LinearRegression()\n",
    "\n",
    "# Train the model\n",
    "baseline_model.fit(X_train, y_train)\n",
    "\n",
    "# Make predictions on the test set\n",
    "y_pred = baseline_model.predict(X_test)\n",
    "\n",
    "# Evaluate the model\n",
    "mae = mean_absolute_error(y_test, y_pred)\n",
    "mse = mean_squared_error(y_test, y_pred)\n",
    "rmse = np.sqrt(mse)\n",
    "\n",
    "# Print results\n",
    "print(f\"Model Performance on Test Set:\")\n",
    "print(f\"Mean Absolute Error (MAE): {mae:.2f}\")\n",
    "print(f\"Root Mean Squared Error (RMSE): {rmse:.2f}\")\n"
   ]
  },
  {
   "cell_type": "code",
   "execution_count": null,
   "id": "dc6b3039-40dc-4d4a-ac3e-8b69cf499c78",
   "metadata": {},
   "outputs": [],
   "source": []
  }
 ],
 "metadata": {
  "kernelspec": {
   "display_name": "Python 3 (ipykernel)",
   "language": "python",
   "name": "python3"
  },
  "language_info": {
   "codemirror_mode": {
    "name": "ipython",
    "version": 3
   },
   "file_extension": ".py",
   "mimetype": "text/x-python",
   "name": "python",
   "nbconvert_exporter": "python",
   "pygments_lexer": "ipython3",
   "version": "3.11.3"
  }
 },
 "nbformat": 4,
 "nbformat_minor": 5
}
