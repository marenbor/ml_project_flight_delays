{
 "cells": [
  {
   "cell_type": "markdown",
   "id": "feb9cbd4-11c6-461f-b1ca-659748b47ea7",
   "metadata": {},
   "source": [
    "## Creating a baseline model using the cleaned data (before advanced feature engineering)"
   ]
  },
  {
   "cell_type": "code",
   "execution_count": 16,
   "id": "34691ca6-8b3d-4053-b21b-b99b96ab5e2f",
   "metadata": {},
   "outputs": [],
   "source": [
    "# Import the necessary packages\n",
    "import os\n",
    "\n",
    "# For calculating\n",
    "import pandas as pd\n",
    "import numpy as np\n",
    "import warnings\n",
    "warnings.filterwarnings('ignore')\n",
    "\n",
    "#for modeling\n",
    "from sklearn.model_selection import train_test_split\n",
    "from sklearn.linear_model import LinearRegression\n",
    "from sklearn.metrics import mean_absolute_error, mean_squared_error, r2_score\n",
    "from sklearn.preprocessing import StandardScaler\n",
    "\n",
    "# for plotting\n",
    "import matplotlib.pyplot as plt\n",
    "import seaborn as sns\n"
   ]
  },
  {
   "cell_type": "code",
   "execution_count": 2,
   "id": "083d29aa-aeca-40df-b81e-97e18fd23556",
   "metadata": {},
   "outputs": [
    {
     "data": {
      "text/html": [
       "<div>\n",
       "<style scoped>\n",
       "    .dataframe tbody tr th:only-of-type {\n",
       "        vertical-align: middle;\n",
       "    }\n",
       "\n",
       "    .dataframe tbody tr th {\n",
       "        vertical-align: top;\n",
       "    }\n",
       "\n",
       "    .dataframe thead th {\n",
       "        text-align: right;\n",
       "    }\n",
       "</style>\n",
       "<table border=\"1\" class=\"dataframe\">\n",
       "  <thead>\n",
       "    <tr style=\"text-align: right;\">\n",
       "      <th></th>\n",
       "      <th>id</th>\n",
       "      <th>target</th>\n",
       "      <th>airline</th>\n",
       "      <th>day_of_week</th>\n",
       "      <th>time_day_std</th>\n",
       "      <th>time_day_sta</th>\n",
       "      <th>continent_dep</th>\n",
       "      <th>iso_country_dep</th>\n",
       "      <th>type_dep</th>\n",
       "      <th>continent_arr</th>\n",
       "      <th>iso_country_arr</th>\n",
       "      <th>type_arr</th>\n",
       "      <th>is_same_country</th>\n",
       "    </tr>\n",
       "  </thead>\n",
       "  <tbody>\n",
       "    <tr>\n",
       "      <th>0</th>\n",
       "      <td>train_id_0</td>\n",
       "      <td>260.0</td>\n",
       "      <td>TU</td>\n",
       "      <td>Sunday</td>\n",
       "      <td>morning</td>\n",
       "      <td>midday</td>\n",
       "      <td>AF</td>\n",
       "      <td>MA</td>\n",
       "      <td>large_airport</td>\n",
       "      <td>AF</td>\n",
       "      <td>TN</td>\n",
       "      <td>large_airport</td>\n",
       "      <td>0.0</td>\n",
       "    </tr>\n",
       "    <tr>\n",
       "      <th>1</th>\n",
       "      <td>train_id_1</td>\n",
       "      <td>20.0</td>\n",
       "      <td>TU</td>\n",
       "      <td>Wednesday</td>\n",
       "      <td>afternoon</td>\n",
       "      <td>afternoon</td>\n",
       "      <td>EU</td>\n",
       "      <td>IT</td>\n",
       "      <td>large_airport</td>\n",
       "      <td>AF</td>\n",
       "      <td>TN</td>\n",
       "      <td>large_airport</td>\n",
       "      <td>0.0</td>\n",
       "    </tr>\n",
       "    <tr>\n",
       "      <th>2</th>\n",
       "      <td>train_id_2</td>\n",
       "      <td>0.0</td>\n",
       "      <td>TU</td>\n",
       "      <td>Saturday</td>\n",
       "      <td>night</td>\n",
       "      <td>morning</td>\n",
       "      <td>AF</td>\n",
       "      <td>TN</td>\n",
       "      <td>large_airport</td>\n",
       "      <td>EU</td>\n",
       "      <td>TR</td>\n",
       "      <td>large_airport</td>\n",
       "      <td>0.0</td>\n",
       "    </tr>\n",
       "    <tr>\n",
       "      <th>3</th>\n",
       "      <td>train_id_3</td>\n",
       "      <td>0.0</td>\n",
       "      <td>TU</td>\n",
       "      <td>Sunday</td>\n",
       "      <td>afternoon</td>\n",
       "      <td>evening</td>\n",
       "      <td>AF</td>\n",
       "      <td>TN</td>\n",
       "      <td>medium_airport</td>\n",
       "      <td>EU</td>\n",
       "      <td>FR</td>\n",
       "      <td>medium_airport</td>\n",
       "      <td>0.0</td>\n",
       "    </tr>\n",
       "    <tr>\n",
       "      <th>4</th>\n",
       "      <td>train_id_4</td>\n",
       "      <td>22.0</td>\n",
       "      <td>TU</td>\n",
       "      <td>Sunday</td>\n",
       "      <td>afternoon</td>\n",
       "      <td>afternoon</td>\n",
       "      <td>AF</td>\n",
       "      <td>TN</td>\n",
       "      <td>large_airport</td>\n",
       "      <td>AF</td>\n",
       "      <td>DZ</td>\n",
       "      <td>large_airport</td>\n",
       "      <td>0.0</td>\n",
       "    </tr>\n",
       "  </tbody>\n",
       "</table>\n",
       "</div>"
      ],
      "text/plain": [
       "           id  target airline day_of_week time_day_std time_day_sta   \n",
       "0  train_id_0   260.0      TU      Sunday      morning       midday  \\\n",
       "1  train_id_1    20.0      TU   Wednesday    afternoon    afternoon   \n",
       "2  train_id_2     0.0      TU    Saturday        night      morning   \n",
       "3  train_id_3     0.0      TU      Sunday    afternoon      evening   \n",
       "4  train_id_4    22.0      TU      Sunday    afternoon    afternoon   \n",
       "\n",
       "  continent_dep iso_country_dep        type_dep continent_arr iso_country_arr   \n",
       "0            AF              MA   large_airport            AF              TN  \\\n",
       "1            EU              IT   large_airport            AF              TN   \n",
       "2            AF              TN   large_airport            EU              TR   \n",
       "3            AF              TN  medium_airport            EU              FR   \n",
       "4            AF              TN   large_airport            AF              DZ   \n",
       "\n",
       "         type_arr  is_same_country  \n",
       "0   large_airport              0.0  \n",
       "1   large_airport              0.0  \n",
       "2   large_airport              0.0  \n",
       "3  medium_airport              0.0  \n",
       "4   large_airport              0.0  "
      ]
     },
     "execution_count": 2,
     "metadata": {},
     "output_type": "execute_result"
    }
   ],
   "source": [
    "# load the cleaned data \n",
    "df = pd.read_csv('../data/train_cleaned.csv', dtype={'continent_dep': 'string', 'continent_arr': 'string'}, na_values=[''])\n",
    "df.head(5)"
   ]
  },
  {
   "cell_type": "code",
   "execution_count": 3,
   "id": "bf9574b3-cdce-4599-b8c0-ba4d39c338db",
   "metadata": {},
   "outputs": [
    {
     "name": "stdout",
     "output_type": "stream",
     "text": [
      "<class 'pandas.core.frame.DataFrame'>\n",
      "RangeIndex: 93679 entries, 0 to 93678\n",
      "Data columns (total 13 columns):\n",
      " #   Column           Non-Null Count  Dtype  \n",
      "---  ------           --------------  -----  \n",
      " 0   id               93679 non-null  object \n",
      " 1   target           93679 non-null  float64\n",
      " 2   airline          93679 non-null  object \n",
      " 3   day_of_week      93679 non-null  object \n",
      " 4   time_day_std     93679 non-null  object \n",
      " 5   time_day_sta     93679 non-null  object \n",
      " 6   continent_dep    93437 non-null  string \n",
      " 7   iso_country_dep  93679 non-null  object \n",
      " 8   type_dep         93679 non-null  object \n",
      " 9   continent_arr    93437 non-null  string \n",
      " 10  iso_country_arr  93679 non-null  object \n",
      " 11  type_arr         93679 non-null  object \n",
      " 12  is_same_country  93679 non-null  float64\n",
      "dtypes: float64(2), object(9), string(2)\n",
      "memory usage: 9.3+ MB\n"
     ]
    }
   ],
   "source": [
    "df.info()"
   ]
  },
  {
   "cell_type": "code",
   "execution_count": 4,
   "id": "0f599f94-eadd-4d9c-969b-3f86bf1941fe",
   "metadata": {},
   "outputs": [],
   "source": [
    "df['is_same_country'] = df['is_same_country'].replace({0: False, 1: True})"
   ]
  },
  {
   "cell_type": "code",
   "execution_count": 5,
   "id": "628e2c55-2719-47e5-b12f-99052d6f35dc",
   "metadata": {},
   "outputs": [],
   "source": [
    "df['target_log'] = np.log(df['target']+1)"
   ]
  },
  {
   "cell_type": "code",
   "execution_count": 6,
   "id": "e74e0835-242f-4615-8cad-4e46158d9501",
   "metadata": {},
   "outputs": [
    {
     "name": "stdout",
     "output_type": "stream",
     "text": [
      "Training set: (74943, 137), Test set: (18736, 137)\n"
     ]
    }
   ],
   "source": [
    "# Define features and the target \n",
    "X = df.drop(columns=['target', 'id', 'target_log'])\n",
    "y = df['target_log']\n",
    "\n",
    "# One-Hot Encode categorical features\n",
    "X_encoded = pd.get_dummies(X, drop_first=True)\n",
    "\n",
    "# Split the data into training (80%) and testing (20%)\n",
    "X_train, X_test, y_train, y_test = train_test_split(X_encoded, y, test_size=0.2, random_state=42)\n",
    "\n",
    "print(f\"Training set: {X_train.shape}, Test set: {X_test.shape}\")\n"
   ]
  },
  {
   "cell_type": "code",
   "execution_count": 13,
   "id": "fdbce20d-7cc7-4d77-8d2c-173798b0d4dd",
   "metadata": {},
   "outputs": [
    {
     "name": "stdout",
     "output_type": "stream",
     "text": [
      "<class 'pandas.core.frame.DataFrame'>\n",
      "Index: 74943 entries, 65956 to 15795\n",
      "Columns: 137 entries, is_same_country to type_arr_small_airport\n",
      "dtypes: bool(137)\n",
      "memory usage: 10.4 MB\n"
     ]
    }
   ],
   "source": [
    "# Check to see how the ccat_features have been encoded \n",
    "X_train.info()"
   ]
  },
  {
   "cell_type": "code",
   "execution_count": 11,
   "id": "0b22fdf1-9e86-4cbe-aa61-12a9b121c4f5",
   "metadata": {},
   "outputs": [
    {
     "name": "stdout",
     "output_type": "stream",
     "text": [
      "Target Value Range:\n",
      "count    93679.000000\n",
      "mean         2.659602\n",
      "std          1.861438\n",
      "min          0.000000\n",
      "25%          0.000000\n",
      "50%          2.995732\n",
      "75%          3.931826\n",
      "max          8.146709\n",
      "Name: target_log, dtype: float64\n"
     ]
    }
   ],
   "source": [
    "# Check the target value\n",
    "print(\"Target Value Range:\")\n",
    "print(y.describe())"
   ]
  },
  {
   "cell_type": "code",
   "execution_count": 14,
   "id": "fda19d2d-955b-47d1-b504-df2b0825f654",
   "metadata": {},
   "outputs": [
    {
     "name": "stdout",
     "output_type": "stream",
     "text": [
      "X_train shape: (74943, 137)\n",
      "X_test shape: (18736, 137)\n"
     ]
    }
   ],
   "source": [
    "print(f\"X_train shape: {X_train.shape}\")\n",
    "print(f\"X_test shape: {X_test.shape}\")\n"
   ]
  },
  {
   "cell_type": "code",
   "execution_count": 17,
   "id": "fd595802-6532-4d2c-9763-286b068d93ed",
   "metadata": {},
   "outputs": [
    {
     "name": "stdout",
     "output_type": "stream",
     "text": [
      "Model Performance on Test Set:\n",
      "Mean Absolute Error (MAE): 151971083.12\n",
      "Root Mean Squared Error (RMSE): 14936703842.84\n",
      "R2 : -64378388395785641984.00\n"
     ]
    }
   ],
   "source": [
    "# Initialize Linear Regression model\n",
    "baseline_model = LinearRegression()\n",
    "\n",
    "# Train the model\n",
    "baseline_model.fit(X_train, y_train)\n",
    "\n",
    "# Make predictions on the test set\n",
    "y_pred = baseline_model.predict(X_test)\n",
    "\n",
    "# Evaluate the model\n",
    "mae = mean_absolute_error(y_test, y_pred)\n",
    "mse = mean_squared_error(y_test, y_pred)\n",
    "rmse = np.sqrt(mse)\n",
    "r_sqr = r2_score(y_test, y_pred)\n",
    "\n",
    "# Print results\n",
    "print(f\"Model Performance on Test Set:\")\n",
    "print(f\"Mean Absolute Error (MAE): {mae:.2f}\")\n",
    "print(f\"Root Mean Squared Error (RMSE): {rmse:.2f}\")\n",
    "print(f\"R2 : {r_sqr:.2f}\")\n"
   ]
  },
  {
   "cell_type": "code",
   "execution_count": null,
   "id": "dc6b3039-40dc-4d4a-ac3e-8b69cf499c78",
   "metadata": {},
   "outputs": [],
   "source": []
  }
 ],
 "metadata": {
  "kernelspec": {
   "display_name": "Python 3 (ipykernel)",
   "language": "python",
   "name": "python3"
  },
  "language_info": {
   "codemirror_mode": {
    "name": "ipython",
    "version": 3
   },
   "file_extension": ".py",
   "mimetype": "text/x-python",
   "name": "python",
   "nbconvert_exporter": "python",
   "pygments_lexer": "ipython3",
   "version": "3.11.3"
  }
 },
 "nbformat": 4,
 "nbformat_minor": 5
}
