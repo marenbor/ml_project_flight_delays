{
 "cells": [
  {
   "cell_type": "code",
   "execution_count": 2,
   "metadata": {},
   "outputs": [
    {
     "name": "stdout",
     "output_type": "stream",
     "text": [
      "✅ Grouped 79 rare categories into 'Other'.\n"
     ]
    },
    {
     "name": "stderr",
     "output_type": "stream",
     "text": [
      "/var/folders/ch/m_r4gx2901zdngn7fs_1cpm80000gn/T/ipykernel_3448/2286187590.py:71: FutureWarning: The default of observed=False is deprecated and will be changed to True in a future version of pandas. Pass observed=False to retain current behavior or observed=True to adopt the future default and silence this warning.\n",
      "  category_medians = df_train.groupby(\"delay_category\")[\"target\"].median()\n"
     ]
    },
    {
     "name": "stdout",
     "output_type": "stream",
     "text": [
      "✅ Balanced dataset saved: 'X_train_balanced.csv' and 'y_train_balanced.csv'.\n"
     ]
    }
   ],
   "source": [
    "# ✅ Step 1: Import Necessary Libraries\n",
    "import pandas as pd\n",
    "import numpy as np\n",
    "import matplotlib.pyplot as plt\n",
    "import seaborn as sns\n",
    "\n",
    "# Try importing imbalanced-learn, install if not found\n",
    "try:\n",
    "    from imblearn.under_sampling import RandomUnderSampler\n",
    "except ModuleNotFoundError:\n",
    "    print(\"Installing imbalanced-learn...\")\n",
    "    !pip install imbalanced-learn\n",
    "    from imblearn.under_sampling import RandomUnderSampler\n",
    "\n",
    "# ✅ Step 2: Load Data\n",
    "file_path_X = \"../data/X_train.csv\"  # Update with correct path\n",
    "file_path_y = \"../data/y_train.csv\"\n",
    "\n",
    "X_train = pd.read_csv(file_path_X)\n",
    "y_train = pd.read_csv(file_path_y).squeeze()  # Ensure y_train is a Series\n",
    "\n",
    "# Merge X_train and y_train for easier analysis\n",
    "df_train = X_train.copy()\n",
    "df_train[\"target\"] = y_train\n",
    "\n",
    "# ✅ Step 3: Identify Categorical Features (One-Hot Encoded)\n",
    "airline_columns = [col for col in df_train.columns if col.startswith(\"airline_\")]\n",
    "country_dep_columns = [col for col in df_train.columns if col.startswith(\"iso_country_dep_\")]\n",
    "country_arr_columns = [col for col in df_train.columns if col.startswith(\"iso_country_arr_\")]\n",
    "\n",
    "# Compute class distributions\n",
    "feature_groups = {\n",
    "    \"airline\": airline_columns,\n",
    "    \"iso_country_dep\": country_dep_columns,\n",
    "    \"iso_country_arr\": country_arr_columns,\n",
    "}\n",
    "\n",
    "class_distributions = {}\n",
    "for group, columns in feature_groups.items():\n",
    "    class_distributions[group] = df_train[columns].sum().sort_values(ascending=False) / len(df_train) * 100\n",
    "\n",
    "# ✅ Step 4: Group Rare Categories into \"Other\"\n",
    "rare_threshold = 0.5  # Categories appearing in <0.5% of dataset\n",
    "rare_features = []\n",
    "\n",
    "for group, dist in class_distributions.items():\n",
    "    rare_cols = dist[dist < rare_threshold].index.tolist()\n",
    "    rare_features.extend(rare_cols)\n",
    "\n",
    "# Create a new \"Other\" category by summing rare categories\n",
    "if rare_features:\n",
    "    df_train[\"airline_other\"] = df_train[rare_features].sum(axis=1)\n",
    "    df_train = df_train.drop(columns=rare_features)\n",
    "    print(f\"✅ Grouped {len(rare_features)} rare categories into 'Other'.\")\n",
    "\n",
    "# ✅ Step 5: Convert Continuous Delays into Categories\n",
    "bins = [-1, 0, 15, 60, 180, np.inf]  # Delay categories: 0, 1-15, 16-60, 61-180, 180+\n",
    "labels = [\"On-time\", \"Short Delay\", \"Moderate Delay\", \"Long Delay\", \"Extreme Delay\"]\n",
    "\n",
    "df_train[\"delay_category\"] = pd.cut(df_train[\"target\"], bins=bins, labels=labels)\n",
    "\n",
    "# ✅ Step 6: Apply Undersampling to Balance Categories\n",
    "X = df_train.drop(columns=[\"target\", \"delay_category\"])  # Remove original target\n",
    "y = df_train[\"delay_category\"]  # Use categorical delay as target\n",
    "\n",
    "undersampler = RandomUnderSampler(sampling_strategy=\"auto\", random_state=42)\n",
    "X_resampled, y_resampled = undersampler.fit_resample(X, y)\n",
    "\n",
    "# ✅ Step 7: Convert Back to Regression Format\n",
    "# Replace delay categories with median delay values\n",
    "category_medians = df_train.groupby(\"delay_category\")[\"target\"].median()\n",
    "y_resampled_continuous = y_resampled.map(category_medians)\n",
    "\n",
    "# ✅ Step 8: Save the Balanced Dataset\n",
    "X_train_balanced = pd.DataFrame(X_resampled, columns=X.columns)\n",
    "y_train_balanced = pd.Series(y_resampled_continuous, name=\"target\")\n",
    "\n",
    "X_train_balanced.to_csv(\"../data/X_train_balanced.csv\", index=False)\n",
    "y_train_balanced.to_csv(\"../data/y_train_balanced.csv\", index=False)\n",
    "\n",
    "print(\"✅ Balanced dataset saved: 'X_train_balanced.csv' and 'y_train_balanced.csv'.\")\n"
   ]
  }
 ],
 "metadata": {
  "kernelspec": {
   "display_name": "Python (.venv)",
   "language": "python",
   "name": ".venv"
  },
  "language_info": {
   "codemirror_mode": {
    "name": "ipython",
    "version": 3
   },
   "file_extension": ".py",
   "mimetype": "text/x-python",
   "name": "python",
   "nbconvert_exporter": "python",
   "pygments_lexer": "ipython3",
   "version": "3.11.3"
  }
 },
 "nbformat": 4,
 "nbformat_minor": 2
}
