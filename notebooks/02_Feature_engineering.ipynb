{
 "cells": [
  {
   "cell_type": "code",
   "execution_count": 1,
   "metadata": {},
   "outputs": [],
   "source": [
    "import pandas as pd\n",
    "import numpy as np\n",
    "import warnings\n",
    "warnings.filterwarnings('ignore')\n",
    "\n",
    "import matplotlib.pyplot as plt\n",
    "import seaborn as sns\n",
    "\n",
    "from sklearn.model_selection import train_test_split\n",
    "from sklearn.preprocessing import OneHotEncoder, StandardScaler\n",
    "from sklearn.compose import ColumnTransformer\n"
   ]
  },
  {
   "cell_type": "code",
   "execution_count": 2,
   "metadata": {},
   "outputs": [
    {
     "data": {
      "text/html": [
       "<div>\n",
       "<style scoped>\n",
       "    .dataframe tbody tr th:only-of-type {\n",
       "        vertical-align: middle;\n",
       "    }\n",
       "\n",
       "    .dataframe tbody tr th {\n",
       "        vertical-align: top;\n",
       "    }\n",
       "\n",
       "    .dataframe thead th {\n",
       "        text-align: right;\n",
       "    }\n",
       "</style>\n",
       "<table border=\"1\" class=\"dataframe\">\n",
       "  <thead>\n",
       "    <tr style=\"text-align: right;\">\n",
       "      <th></th>\n",
       "      <th>id</th>\n",
       "      <th>ac</th>\n",
       "      <th>target</th>\n",
       "      <th>s_std_day_year</th>\n",
       "      <th>c_std_day_year</th>\n",
       "      <th>std_day</th>\n",
       "      <th>sta_day</th>\n",
       "      <th>std_month</th>\n",
       "      <th>sta_month</th>\n",
       "      <th>std_time_dec</th>\n",
       "      <th>s_std_time_dec</th>\n",
       "      <th>c_std_time_dec</th>\n",
       "      <th>iso_country_dep</th>\n",
       "      <th>type_dep</th>\n",
       "      <th>iso_country_arr</th>\n",
       "      <th>type_arr</th>\n",
       "      <th>is_same_country</th>\n",
       "    </tr>\n",
       "  </thead>\n",
       "  <tbody>\n",
       "    <tr>\n",
       "      <th>0</th>\n",
       "      <td>train_id_0</td>\n",
       "      <td>TU 32AIMN</td>\n",
       "      <td>260.0</td>\n",
       "      <td>0.051620</td>\n",
       "      <td>0.998667</td>\n",
       "      <td>Sunday</td>\n",
       "      <td>Sunday</td>\n",
       "      <td>January</td>\n",
       "      <td>January</td>\n",
       "      <td>10.5</td>\n",
       "      <td>0.382683</td>\n",
       "      <td>-0.923880</td>\n",
       "      <td>MA</td>\n",
       "      <td>large_airport</td>\n",
       "      <td>TN</td>\n",
       "      <td>large_airport</td>\n",
       "      <td>False</td>\n",
       "    </tr>\n",
       "    <tr>\n",
       "      <th>1</th>\n",
       "      <td>train_id_1</td>\n",
       "      <td>TU 31BIMO</td>\n",
       "      <td>20.0</td>\n",
       "      <td>0.221922</td>\n",
       "      <td>0.975065</td>\n",
       "      <td>Wednesday</td>\n",
       "      <td>Wednesday</td>\n",
       "      <td>January</td>\n",
       "      <td>January</td>\n",
       "      <td>15.1</td>\n",
       "      <td>-0.725374</td>\n",
       "      <td>-0.688355</td>\n",
       "      <td>IT</td>\n",
       "      <td>large_airport</td>\n",
       "      <td>TN</td>\n",
       "      <td>large_airport</td>\n",
       "      <td>False</td>\n",
       "    </tr>\n",
       "    <tr>\n",
       "      <th>2</th>\n",
       "      <td>train_id_2</td>\n",
       "      <td>TU 32AIMN</td>\n",
       "      <td>0.0</td>\n",
       "      <td>0.271958</td>\n",
       "      <td>0.962309</td>\n",
       "      <td>Saturday</td>\n",
       "      <td>Saturday</td>\n",
       "      <td>January</td>\n",
       "      <td>January</td>\n",
       "      <td>4.2</td>\n",
       "      <td>0.891007</td>\n",
       "      <td>0.453990</td>\n",
       "      <td>TN</td>\n",
       "      <td>large_airport</td>\n",
       "      <td>TR</td>\n",
       "      <td>large_airport</td>\n",
       "      <td>False</td>\n",
       "    </tr>\n",
       "    <tr>\n",
       "      <th>3</th>\n",
       "      <td>train_id_3</td>\n",
       "      <td>TU 736IOK</td>\n",
       "      <td>0.0</td>\n",
       "      <td>0.288482</td>\n",
       "      <td>0.957485</td>\n",
       "      <td>Sunday</td>\n",
       "      <td>Sunday</td>\n",
       "      <td>January</td>\n",
       "      <td>January</td>\n",
       "      <td>14.2</td>\n",
       "      <td>-0.544639</td>\n",
       "      <td>-0.838671</td>\n",
       "      <td>TN</td>\n",
       "      <td>medium_airport</td>\n",
       "      <td>FR</td>\n",
       "      <td>medium_airport</td>\n",
       "      <td>False</td>\n",
       "    </tr>\n",
       "    <tr>\n",
       "      <th>4</th>\n",
       "      <td>train_id_4</td>\n",
       "      <td>TU 320IMU</td>\n",
       "      <td>22.0</td>\n",
       "      <td>0.288482</td>\n",
       "      <td>0.957485</td>\n",
       "      <td>Sunday</td>\n",
       "      <td>Sunday</td>\n",
       "      <td>January</td>\n",
       "      <td>January</td>\n",
       "      <td>14.5</td>\n",
       "      <td>-0.608761</td>\n",
       "      <td>-0.793353</td>\n",
       "      <td>TN</td>\n",
       "      <td>large_airport</td>\n",
       "      <td>DZ</td>\n",
       "      <td>large_airport</td>\n",
       "      <td>False</td>\n",
       "    </tr>\n",
       "  </tbody>\n",
       "</table>\n",
       "</div>"
      ],
      "text/plain": [
       "           id         ac  target  s_std_day_year  c_std_day_year    std_day   \n",
       "0  train_id_0  TU 32AIMN   260.0        0.051620        0.998667     Sunday  \\\n",
       "1  train_id_1  TU 31BIMO    20.0        0.221922        0.975065  Wednesday   \n",
       "2  train_id_2  TU 32AIMN     0.0        0.271958        0.962309   Saturday   \n",
       "3  train_id_3  TU 736IOK     0.0        0.288482        0.957485     Sunday   \n",
       "4  train_id_4  TU 320IMU    22.0        0.288482        0.957485     Sunday   \n",
       "\n",
       "     sta_day std_month sta_month  std_time_dec  s_std_time_dec   \n",
       "0     Sunday   January   January          10.5        0.382683  \\\n",
       "1  Wednesday   January   January          15.1       -0.725374   \n",
       "2   Saturday   January   January           4.2        0.891007   \n",
       "3     Sunday   January   January          14.2       -0.544639   \n",
       "4     Sunday   January   January          14.5       -0.608761   \n",
       "\n",
       "   c_std_time_dec iso_country_dep        type_dep iso_country_arr   \n",
       "0       -0.923880              MA   large_airport              TN  \\\n",
       "1       -0.688355              IT   large_airport              TN   \n",
       "2        0.453990              TN   large_airport              TR   \n",
       "3       -0.838671              TN  medium_airport              FR   \n",
       "4       -0.793353              TN   large_airport              DZ   \n",
       "\n",
       "         type_arr  is_same_country  \n",
       "0   large_airport            False  \n",
       "1   large_airport            False  \n",
       "2   large_airport            False  \n",
       "3  medium_airport            False  \n",
       "4   large_airport            False  "
      ]
     },
     "execution_count": 2,
     "metadata": {},
     "output_type": "execute_result"
    }
   ],
   "source": [
    "# Load the data\n",
    "df = pd.read_csv('../data/train_cleaned.csv')\n",
    "df.head()\n"
   ]
  },
  {
   "cell_type": "code",
   "execution_count": 3,
   "metadata": {},
   "outputs": [
    {
     "name": "stdout",
     "output_type": "stream",
     "text": [
      "<class 'pandas.core.frame.DataFrame'>\n",
      "RangeIndex: 93679 entries, 0 to 93678\n",
      "Data columns (total 17 columns):\n",
      " #   Column           Non-Null Count  Dtype  \n",
      "---  ------           --------------  -----  \n",
      " 0   id               93679 non-null  object \n",
      " 1   ac               93679 non-null  object \n",
      " 2   target           93679 non-null  float64\n",
      " 3   s_std_day_year   93679 non-null  float64\n",
      " 4   c_std_day_year   93679 non-null  float64\n",
      " 5   std_day          93679 non-null  object \n",
      " 6   sta_day          93679 non-null  object \n",
      " 7   std_month        93679 non-null  object \n",
      " 8   sta_month        93679 non-null  object \n",
      " 9   std_time_dec     93679 non-null  float64\n",
      " 10  s_std_time_dec   93679 non-null  float64\n",
      " 11  c_std_time_dec   93679 non-null  float64\n",
      " 12  iso_country_dep  93679 non-null  object \n",
      " 13  type_dep         93679 non-null  object \n",
      " 14  iso_country_arr  93679 non-null  object \n",
      " 15  type_arr         93679 non-null  object \n",
      " 16  is_same_country  93679 non-null  bool   \n",
      "dtypes: bool(1), float64(6), object(10)\n",
      "memory usage: 11.5+ MB\n"
     ]
    }
   ],
   "source": [
    "df.info()"
   ]
  },
  {
   "cell_type": "markdown",
   "metadata": {},
   "source": [
    "### feature target separation"
   ]
  },
  {
   "cell_type": "code",
   "execution_count": 4,
   "metadata": {},
   "outputs": [],
   "source": [
    "# Split the data into features and target label\n",
    "X = df.drop(['target', 'id'], axis=1)\n",
    "y = df['target']"
   ]
  },
  {
   "cell_type": "code",
   "execution_count": 5,
   "metadata": {},
   "outputs": [
    {
     "data": {
      "text/plain": [
       "<Axes: >"
      ]
     },
     "execution_count": 5,
     "metadata": {},
     "output_type": "execute_result"
    },
    {
     "data": {
      "image/png": "[encoded data removed]",
      "text/plain": [
       "<Figure size 640x480 with 1 Axes>"
      ]
     },
     "metadata": {},
     "output_type": "display_data"
    }
   ],
   "source": [
    "y.hist()"
   ]
  },
  {
   "cell_type": "code",
   "execution_count": 6,
   "metadata": {},
   "outputs": [],
   "source": [
    "# #one-hot encode features\n",
    "# X = pd.get_dummies(X)"
   ]
  },
  {
   "cell_type": "markdown",
   "metadata": {},
   "source": [
    "### train test split"
   ]
  },
  {
   "cell_type": "code",
   "execution_count": 7,
   "metadata": {},
   "outputs": [],
   "source": [
    "# Split the data into training and testing sets\n",
    "X_train, X_test, y_train, y_test = train_test_split(X, y, test_size=0.2, random_state=42)"
   ]
  },
  {
   "cell_type": "markdown",
   "metadata": {},
   "source": [
    "### Create log transformation on y_train"
   ]
  },
  {
   "cell_type": "code",
   "execution_count": 8,
   "metadata": {},
   "outputs": [],
   "source": [
    "# #Log transform the target\n",
    "# y_train = np.log1p(y_train)"
   ]
  },
  {
   "cell_type": "code",
   "execution_count": 9,
   "metadata": {},
   "outputs": [
    {
     "data": {
      "text/plain": [
       "<Axes: >"
      ]
     },
     "execution_count": 9,
     "metadata": {},
     "output_type": "execute_result"
    },
    {
     "data": {
      "image/png": "[encoded data removed]",
      "text/plain": [
       "<Figure size 640x480 with 1 Axes>"
      ]
     },
     "metadata": {},
     "output_type": "display_data"
    }
   ],
   "source": [
    "y_train.hist()"
   ]
  },
  {
   "cell_type": "markdown",
   "metadata": {},
   "source": [
    "### safe data for catboost model (can handle categorical data)"
   ]
  },
  {
   "cell_type": "code",
   "execution_count": 10,
   "metadata": {},
   "outputs": [],
   "source": [
    "# save X_train, X_test, y_train, y_test in csv files without dummy encoding\n",
    "X_train.to_csv('../data/X_train_wodum.csv', index=False)\n",
    "X_test.to_csv('../data/X_test_wodum.csv', index=False)\n",
    "y_train.to_csv('../data/y_train_wodum.csv', index=False)\n",
    "y_test.to_csv('../data/y_test_wodum.csv', index=False)"
   ]
  },
  {
   "cell_type": "code",
   "execution_count": 11,
   "metadata": {},
   "outputs": [
    {
     "name": "stdout",
     "output_type": "stream",
     "text": [
      "<class 'pandas.core.frame.DataFrame'>\n",
      "Index: 74943 entries, 65956 to 15795\n",
      "Data columns (total 15 columns):\n",
      " #   Column           Non-Null Count  Dtype  \n",
      "---  ------           --------------  -----  \n",
      " 0   ac               74943 non-null  object \n",
      " 1   s_std_day_year   74943 non-null  float64\n",
      " 2   c_std_day_year   74943 non-null  float64\n",
      " 3   std_day          74943 non-null  object \n",
      " 4   sta_day          74943 non-null  object \n",
      " 5   std_month        74943 non-null  object \n",
      " 6   sta_month        74943 non-null  object \n",
      " 7   std_time_dec     74943 non-null  float64\n",
      " 8   s_std_time_dec   74943 non-null  float64\n",
      " 9   c_std_time_dec   74943 non-null  float64\n",
      " 10  iso_country_dep  74943 non-null  object \n",
      " 11  type_dep         74943 non-null  object \n",
      " 12  iso_country_arr  74943 non-null  object \n",
      " 13  type_arr         74943 non-null  object \n",
      " 14  is_same_country  74943 non-null  bool   \n",
      "dtypes: bool(1), float64(5), object(9)\n",
      "memory usage: 8.6+ MB\n"
     ]
    }
   ],
   "source": [
    "X_train.info()"
   ]
  },
  {
   "cell_type": "markdown",
   "metadata": {},
   "source": [
    "### use scaler on time"
   ]
  },
  {
   "cell_type": "code",
   "execution_count": 12,
   "metadata": {},
   "outputs": [],
   "source": [
    "# scaler = StandardScaler()\n",
    "\n",
    "# # Fit and transform the specified columns\n",
    "# X_train[['sta_time_dec', 'std_time_dec']] = scaler.fit_transform(X_train[['sta_time_dec', 'std_time_dec']])\n",
    "# X_test[['sta_time_dec', 'std_time_dec']] = scaler.transform(X_test[['sta_time_dec', 'std_time_dec']])"
   ]
  },
  {
   "cell_type": "markdown",
   "metadata": {},
   "source": [
    "### make dummie variables (after train test split, as data needed for catboost)"
   ]
  },
  {
   "cell_type": "code",
   "execution_count": 13,
   "metadata": {},
   "outputs": [
    {
     "name": "stdout",
     "output_type": "stream",
     "text": [
      "<class 'pandas.core.frame.DataFrame'>\n",
      "Index: 74943 entries, 65956 to 15795\n",
      "Data columns (total 15 columns):\n",
      " #   Column           Non-Null Count  Dtype  \n",
      "---  ------           --------------  -----  \n",
      " 0   ac               74943 non-null  object \n",
      " 1   s_std_day_year   74943 non-null  float64\n",
      " 2   c_std_day_year   74943 non-null  float64\n",
      " 3   std_day          74943 non-null  object \n",
      " 4   sta_day          74943 non-null  object \n",
      " 5   std_month        74943 non-null  object \n",
      " 6   sta_month        74943 non-null  object \n",
      " 7   std_time_dec     74943 non-null  float64\n",
      " 8   s_std_time_dec   74943 non-null  float64\n",
      " 9   c_std_time_dec   74943 non-null  float64\n",
      " 10  iso_country_dep  74943 non-null  object \n",
      " 11  type_dep         74943 non-null  object \n",
      " 12  iso_country_arr  74943 non-null  object \n",
      " 13  type_arr         74943 non-null  object \n",
      " 14  is_same_country  74943 non-null  bool   \n",
      "dtypes: bool(1), float64(5), object(9)\n",
      "memory usage: 8.6+ MB\n"
     ]
    }
   ],
   "source": [
    "X_train.info()"
   ]
  },
  {
   "cell_type": "code",
   "execution_count": 14,
   "metadata": {},
   "outputs": [],
   "source": [
    "#make dummie variables\n",
    "\n",
    "# Define categorical, boolean, and numerical features\n",
    "categorical_features = [\n",
    "    'ac', 'std_day', 'sta_day', 'std_month', 'sta_month', 'iso_country_dep', 'iso_country_arr', 'type_dep', 'type_arr'\n",
    "]\n",
    "boolean_features = ['is_same_country']\n",
    "numerical_features = ['s_std_time_dec', 'c_std_time_dec', 's_std_day_year', 'c_std_day_year']  # Add other numerical features here\n",
    "\n",
    "# Initialize transformers\n",
    "one_hot = OneHotEncoder(handle_unknown='ignore', sparse_output=False)\n",
    "\n",
    "# Create a ColumnTransformer\n",
    "preprocessor = ColumnTransformer(\n",
    "    transformers=[\n",
    "        ('one_hot', one_hot, categorical_features),\n",
    "        ('passthrough', 'passthrough', boolean_features + numerical_features)  \n",
    "    ])\n",
    "\n",
    "# Fit and transform data\n",
    "preprocessor.fit(X_train)\n",
    "X_train_encoded = preprocessor.transform(X_train)\n",
    "X_test_encoded = preprocessor.transform(X_test)\n",
    "\n",
    "# Get the feature names from the preprocessor\n",
    "feature_names = preprocessor.get_feature_names_out()\n",
    "\n",
    "# Convert X_train_encoded and X_test_encoded to DataFrames\n",
    "X_train = pd.DataFrame(X_train_encoded, columns=feature_names)\n",
    "X_test = pd.DataFrame(X_test_encoded, columns=feature_names)"
   ]
  },
  {
   "cell_type": "code",
   "execution_count": 15,
   "metadata": {},
   "outputs": [
    {
     "data": {
      "text/html": [
       "<div>\n",
       "<style scoped>\n",
       "    .dataframe tbody tr th:only-of-type {\n",
       "        vertical-align: middle;\n",
       "    }\n",
       "\n",
       "    .dataframe tbody tr th {\n",
       "        vertical-align: top;\n",
       "    }\n",
       "\n",
       "    .dataframe thead th {\n",
       "        text-align: right;\n",
       "    }\n",
       "</style>\n",
       "<table border=\"1\" class=\"dataframe\">\n",
       "  <thead>\n",
       "    <tr style=\"text-align: right;\">\n",
       "      <th></th>\n",
       "      <th>one_hot__ac_5K 343TQY</th>\n",
       "      <th>one_hot__ac_5K 345TFX</th>\n",
       "      <th>one_hot__ac_5M 343FOX</th>\n",
       "      <th>one_hot__ac_5M 343JAI</th>\n",
       "      <th>one_hot__ac_5M 343SUN</th>\n",
       "      <th>one_hot__ac_6P M87TRJ</th>\n",
       "      <th>one_hot__ac_BJ 320INA</th>\n",
       "      <th>one_hot__ac_BJ 320INB</th>\n",
       "      <th>one_hot__ac_BJ 320INC</th>\n",
       "      <th>one_hot__ac_BJ 320INH</th>\n",
       "      <th>...</th>\n",
       "      <th>one_hot__type_dep_medium_airport</th>\n",
       "      <th>one_hot__type_dep_small_airport</th>\n",
       "      <th>one_hot__type_arr_large_airport</th>\n",
       "      <th>one_hot__type_arr_medium_airport</th>\n",
       "      <th>one_hot__type_arr_small_airport</th>\n",
       "      <th>passthrough__is_same_country</th>\n",
       "      <th>passthrough__s_std_time_dec</th>\n",
       "      <th>passthrough__c_std_time_dec</th>\n",
       "      <th>passthrough__s_std_day_year</th>\n",
       "      <th>passthrough__c_std_day_year</th>\n",
       "    </tr>\n",
       "  </thead>\n",
       "  <tbody>\n",
       "    <tr>\n",
       "      <th>0</th>\n",
       "      <td>0.0</td>\n",
       "      <td>0.0</td>\n",
       "      <td>0.0</td>\n",
       "      <td>0.0</td>\n",
       "      <td>0.0</td>\n",
       "      <td>0.0</td>\n",
       "      <td>0.0</td>\n",
       "      <td>0.0</td>\n",
       "      <td>0.0</td>\n",
       "      <td>0.0</td>\n",
       "      <td>...</td>\n",
       "      <td>0.0</td>\n",
       "      <td>0.0</td>\n",
       "      <td>1.0</td>\n",
       "      <td>0.0</td>\n",
       "      <td>0.0</td>\n",
       "      <td>False</td>\n",
       "      <td>0.156434</td>\n",
       "      <td>-0.987688</td>\n",
       "      <td>0.746972</td>\n",
       "      <td>0.664855</td>\n",
       "    </tr>\n",
       "    <tr>\n",
       "      <th>1</th>\n",
       "      <td>0.0</td>\n",
       "      <td>0.0</td>\n",
       "      <td>0.0</td>\n",
       "      <td>0.0</td>\n",
       "      <td>0.0</td>\n",
       "      <td>0.0</td>\n",
       "      <td>0.0</td>\n",
       "      <td>0.0</td>\n",
       "      <td>0.0</td>\n",
       "      <td>0.0</td>\n",
       "      <td>...</td>\n",
       "      <td>1.0</td>\n",
       "      <td>0.0</td>\n",
       "      <td>0.0</td>\n",
       "      <td>1.0</td>\n",
       "      <td>0.0</td>\n",
       "      <td>False</td>\n",
       "      <td>-0.99863</td>\n",
       "      <td>0.052336</td>\n",
       "      <td>0.835925</td>\n",
       "      <td>-0.548843</td>\n",
       "    </tr>\n",
       "    <tr>\n",
       "      <th>2</th>\n",
       "      <td>0.0</td>\n",
       "      <td>0.0</td>\n",
       "      <td>0.0</td>\n",
       "      <td>0.0</td>\n",
       "      <td>0.0</td>\n",
       "      <td>0.0</td>\n",
       "      <td>0.0</td>\n",
       "      <td>0.0</td>\n",
       "      <td>0.0</td>\n",
       "      <td>0.0</td>\n",
       "      <td>...</td>\n",
       "      <td>0.0</td>\n",
       "      <td>0.0</td>\n",
       "      <td>1.0</td>\n",
       "      <td>0.0</td>\n",
       "      <td>0.0</td>\n",
       "      <td>False</td>\n",
       "      <td>-0.45399</td>\n",
       "      <td>-0.891007</td>\n",
       "      <td>0.47116</td>\n",
       "      <td>-0.882048</td>\n",
       "    </tr>\n",
       "    <tr>\n",
       "      <th>3</th>\n",
       "      <td>0.0</td>\n",
       "      <td>0.0</td>\n",
       "      <td>0.0</td>\n",
       "      <td>0.0</td>\n",
       "      <td>0.0</td>\n",
       "      <td>0.0</td>\n",
       "      <td>0.0</td>\n",
       "      <td>0.0</td>\n",
       "      <td>0.0</td>\n",
       "      <td>0.0</td>\n",
       "      <td>...</td>\n",
       "      <td>0.0</td>\n",
       "      <td>0.0</td>\n",
       "      <td>0.0</td>\n",
       "      <td>1.0</td>\n",
       "      <td>0.0</td>\n",
       "      <td>False</td>\n",
       "      <td>0.649448</td>\n",
       "      <td>-0.760406</td>\n",
       "      <td>0.46355</td>\n",
       "      <td>0.886071</td>\n",
       "    </tr>\n",
       "    <tr>\n",
       "      <th>4</th>\n",
       "      <td>0.0</td>\n",
       "      <td>0.0</td>\n",
       "      <td>0.0</td>\n",
       "      <td>0.0</td>\n",
       "      <td>0.0</td>\n",
       "      <td>0.0</td>\n",
       "      <td>0.0</td>\n",
       "      <td>0.0</td>\n",
       "      <td>0.0</td>\n",
       "      <td>0.0</td>\n",
       "      <td>...</td>\n",
       "      <td>0.0</td>\n",
       "      <td>0.0</td>\n",
       "      <td>0.0</td>\n",
       "      <td>1.0</td>\n",
       "      <td>0.0</td>\n",
       "      <td>False</td>\n",
       "      <td>0.5</td>\n",
       "      <td>-0.866025</td>\n",
       "      <td>-0.845249</td>\n",
       "      <td>-0.534373</td>\n",
       "    </tr>\n",
       "  </tbody>\n",
       "</table>\n",
       "<p>5 rows × 208 columns</p>\n",
       "</div>"
      ],
      "text/plain": [
       "  one_hot__ac_5K 343TQY one_hot__ac_5K 345TFX one_hot__ac_5M 343FOX   \n",
       "0                   0.0                   0.0                   0.0  \\\n",
       "1                   0.0                   0.0                   0.0   \n",
       "2                   0.0                   0.0                   0.0   \n",
       "3                   0.0                   0.0                   0.0   \n",
       "4                   0.0                   0.0                   0.0   \n",
       "\n",
       "  one_hot__ac_5M 343JAI one_hot__ac_5M 343SUN one_hot__ac_6P M87TRJ   \n",
       "0                   0.0                   0.0                   0.0  \\\n",
       "1                   0.0                   0.0                   0.0   \n",
       "2                   0.0                   0.0                   0.0   \n",
       "3                   0.0                   0.0                   0.0   \n",
       "4                   0.0                   0.0                   0.0   \n",
       "\n",
       "  one_hot__ac_BJ 320INA one_hot__ac_BJ 320INB one_hot__ac_BJ 320INC   \n",
       "0                   0.0                   0.0                   0.0  \\\n",
       "1                   0.0                   0.0                   0.0   \n",
       "2                   0.0                   0.0                   0.0   \n",
       "3                   0.0                   0.0                   0.0   \n",
       "4                   0.0                   0.0                   0.0   \n",
       "\n",
       "  one_hot__ac_BJ 320INH  ... one_hot__type_dep_medium_airport   \n",
       "0                   0.0  ...                              0.0  \\\n",
       "1                   0.0  ...                              1.0   \n",
       "2                   0.0  ...                              0.0   \n",
       "3                   0.0  ...                              0.0   \n",
       "4                   0.0  ...                              0.0   \n",
       "\n",
       "  one_hot__type_dep_small_airport one_hot__type_arr_large_airport   \n",
       "0                             0.0                             1.0  \\\n",
       "1                             0.0                             0.0   \n",
       "2                             0.0                             1.0   \n",
       "3                             0.0                             0.0   \n",
       "4                             0.0                             0.0   \n",
       "\n",
       "  one_hot__type_arr_medium_airport one_hot__type_arr_small_airport   \n",
       "0                              0.0                             0.0  \\\n",
       "1                              1.0                             0.0   \n",
       "2                              0.0                             0.0   \n",
       "3                              1.0                             0.0   \n",
       "4                              1.0                             0.0   \n",
       "\n",
       "  passthrough__is_same_country passthrough__s_std_time_dec   \n",
       "0                        False                    0.156434  \\\n",
       "1                        False                    -0.99863   \n",
       "2                        False                    -0.45399   \n",
       "3                        False                    0.649448   \n",
       "4                        False                         0.5   \n",
       "\n",
       "  passthrough__c_std_time_dec passthrough__s_std_day_year   \n",
       "0                   -0.987688                    0.746972  \\\n",
       "1                    0.052336                    0.835925   \n",
       "2                   -0.891007                     0.47116   \n",
       "3                   -0.760406                     0.46355   \n",
       "4                   -0.866025                   -0.845249   \n",
       "\n",
       "  passthrough__c_std_day_year  \n",
       "0                    0.664855  \n",
       "1                   -0.548843  \n",
       "2                   -0.882048  \n",
       "3                    0.886071  \n",
       "4                   -0.534373  \n",
       "\n",
       "[5 rows x 208 columns]"
      ]
     },
     "execution_count": 15,
     "metadata": {},
     "output_type": "execute_result"
    }
   ],
   "source": [
    "X_train.head()"
   ]
  },
  {
   "cell_type": "markdown",
   "metadata": {},
   "source": [
    "### save the data"
   ]
  },
  {
   "cell_type": "code",
   "execution_count": 16,
   "metadata": {},
   "outputs": [],
   "source": [
    "# save X_train, X_test, y_train, y_test in csv files\n",
    "X_train.to_csv('../data/X_train.csv', index=False)\n",
    "X_test.to_csv('../data/X_test.csv', index=False)\n",
    "y_train.to_csv('../data/y_train.csv', index=False)\n",
    "y_test.to_csv('../data/y_test.csv', index=False)"
   ]
  },
  {
   "cell_type": "markdown",
   "metadata": {},
   "source": [
    "## maybe scaling of features, as distribution is skewed"
   ]
  },
  {
   "cell_type": "code",
   "execution_count": 17,
   "metadata": {},
   "outputs": [],
   "source": [
    "# # Create histograms for every feature in the dataframe\n",
    "# for column in df.columns:\n",
    "#     plt.figure(figsize=(10, 6))\n",
    "#     sns.histplot(df[column], kde=True)\n",
    "#     plt.title(f'Histogram of {column}')\n",
    "#     plt.show()"
   ]
  }
 ],
 "metadata": {
  "kernelspec": {
   "display_name": ".venv",
   "language": "python",
   "name": "python3"
  },
  "language_info": {
   "codemirror_mode": {
    "name": "ipython",
    "version": 3
   },
   "file_extension": ".py",
   "mimetype": "text/x-python",
   "name": "python",
   "nbconvert_exporter": "python",
   "pygments_lexer": "ipython3",
   "version": "3.11.3"
  }
 },
 "nbformat": 4,
 "nbformat_minor": 4
}
