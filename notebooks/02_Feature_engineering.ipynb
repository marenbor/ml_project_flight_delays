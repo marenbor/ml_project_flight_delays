{
 "cells": [
  {
   "cell_type": "code",
   "execution_count": 1,
   "metadata": {},
   "outputs": [],
   "source": [
    "import pandas as pd\n",
    "import numpy as np\n",
    "import warnings\n",
    "warnings.filterwarnings('ignore')\n",
    "\n",
    "import matplotlib.pyplot as plt\n",
    "import seaborn as sns\n",
    "\n",
    "from sklearn.model_selection import train_test_split\n",
    "from sklearn.preprocessing import OneHotEncoder, StandardScaler\n",
    "from sklearn.compose import ColumnTransformer\n"
   ]
  },
  {
   "cell_type": "code",
   "execution_count": 2,
   "metadata": {},
   "outputs": [
    {
     "data": {
      "text/html": [
       "<div>\n",
       "<style scoped>\n",
       "    .dataframe tbody tr th:only-of-type {\n",
       "        vertical-align: middle;\n",
       "    }\n",
       "\n",
       "    .dataframe tbody tr th {\n",
       "        vertical-align: top;\n",
       "    }\n",
       "\n",
       "    .dataframe thead th {\n",
       "        text-align: right;\n",
       "    }\n",
       "</style>\n",
       "<table border=\"1\" class=\"dataframe\">\n",
       "  <thead>\n",
       "    <tr style=\"text-align: right;\">\n",
       "      <th></th>\n",
       "      <th>id</th>\n",
       "      <th>target</th>\n",
       "      <th>airline</th>\n",
       "      <th>std_day</th>\n",
       "      <th>sta_day</th>\n",
       "      <th>std_month</th>\n",
       "      <th>sta_month</th>\n",
       "      <th>std_time_dec</th>\n",
       "      <th>iso_country_dep</th>\n",
       "      <th>type_dep</th>\n",
       "      <th>iso_country_arr</th>\n",
       "      <th>type_arr</th>\n",
       "      <th>is_same_country</th>\n",
       "    </tr>\n",
       "  </thead>\n",
       "  <tbody>\n",
       "    <tr>\n",
       "      <th>0</th>\n",
       "      <td>train_id_0</td>\n",
       "      <td>260.0</td>\n",
       "      <td>TU</td>\n",
       "      <td>Sunday</td>\n",
       "      <td>Sunday</td>\n",
       "      <td>January</td>\n",
       "      <td>January</td>\n",
       "      <td>10.5</td>\n",
       "      <td>MA</td>\n",
       "      <td>large_airport</td>\n",
       "      <td>TN</td>\n",
       "      <td>large_airport</td>\n",
       "      <td>False</td>\n",
       "    </tr>\n",
       "    <tr>\n",
       "      <th>1</th>\n",
       "      <td>train_id_1</td>\n",
       "      <td>20.0</td>\n",
       "      <td>TU</td>\n",
       "      <td>Wednesday</td>\n",
       "      <td>Wednesday</td>\n",
       "      <td>January</td>\n",
       "      <td>January</td>\n",
       "      <td>15.1</td>\n",
       "      <td>IT</td>\n",
       "      <td>large_airport</td>\n",
       "      <td>TN</td>\n",
       "      <td>large_airport</td>\n",
       "      <td>False</td>\n",
       "    </tr>\n",
       "    <tr>\n",
       "      <th>2</th>\n",
       "      <td>train_id_2</td>\n",
       "      <td>0.0</td>\n",
       "      <td>TU</td>\n",
       "      <td>Saturday</td>\n",
       "      <td>Saturday</td>\n",
       "      <td>January</td>\n",
       "      <td>January</td>\n",
       "      <td>4.2</td>\n",
       "      <td>TN</td>\n",
       "      <td>large_airport</td>\n",
       "      <td>TR</td>\n",
       "      <td>large_airport</td>\n",
       "      <td>False</td>\n",
       "    </tr>\n",
       "    <tr>\n",
       "      <th>3</th>\n",
       "      <td>train_id_3</td>\n",
       "      <td>0.0</td>\n",
       "      <td>TU</td>\n",
       "      <td>Sunday</td>\n",
       "      <td>Sunday</td>\n",
       "      <td>January</td>\n",
       "      <td>January</td>\n",
       "      <td>14.2</td>\n",
       "      <td>TN</td>\n",
       "      <td>medium_airport</td>\n",
       "      <td>FR</td>\n",
       "      <td>medium_airport</td>\n",
       "      <td>False</td>\n",
       "    </tr>\n",
       "    <tr>\n",
       "      <th>4</th>\n",
       "      <td>train_id_4</td>\n",
       "      <td>22.0</td>\n",
       "      <td>TU</td>\n",
       "      <td>Sunday</td>\n",
       "      <td>Sunday</td>\n",
       "      <td>January</td>\n",
       "      <td>January</td>\n",
       "      <td>14.5</td>\n",
       "      <td>TN</td>\n",
       "      <td>large_airport</td>\n",
       "      <td>DZ</td>\n",
       "      <td>large_airport</td>\n",
       "      <td>False</td>\n",
       "    </tr>\n",
       "  </tbody>\n",
       "</table>\n",
       "</div>"
      ],
      "text/plain": [
       "           id  target airline    std_day    sta_day std_month sta_month   \n",
       "0  train_id_0   260.0      TU     Sunday     Sunday   January   January  \\\n",
       "1  train_id_1    20.0      TU  Wednesday  Wednesday   January   January   \n",
       "2  train_id_2     0.0      TU   Saturday   Saturday   January   January   \n",
       "3  train_id_3     0.0      TU     Sunday     Sunday   January   January   \n",
       "4  train_id_4    22.0      TU     Sunday     Sunday   January   January   \n",
       "\n",
       "   std_time_dec iso_country_dep        type_dep iso_country_arr   \n",
       "0          10.5              MA   large_airport              TN  \\\n",
       "1          15.1              IT   large_airport              TN   \n",
       "2           4.2              TN   large_airport              TR   \n",
       "3          14.2              TN  medium_airport              FR   \n",
       "4          14.5              TN   large_airport              DZ   \n",
       "\n",
       "         type_arr  is_same_country  \n",
       "0   large_airport            False  \n",
       "1   large_airport            False  \n",
       "2   large_airport            False  \n",
       "3  medium_airport            False  \n",
       "4   large_airport            False  "
      ]
     },
     "execution_count": 2,
     "metadata": {},
     "output_type": "execute_result"
    }
   ],
   "source": [
    "# Load the data\n",
    "df = pd.read_csv('../data/train_cleaned.csv')\n",
    "df.head()\n"
   ]
  },
  {
   "cell_type": "markdown",
   "metadata": {},
   "source": [
    "### feature target separation"
   ]
  },
  {
   "cell_type": "code",
   "execution_count": 3,
   "metadata": {},
   "outputs": [],
   "source": [
    "# Split the data into features and target label\n",
    "X = df.drop(['target', 'id'], axis=1)\n",
    "y = df['target']"
   ]
  },
  {
   "cell_type": "markdown",
   "metadata": {},
   "source": [
    "### log transformation of target"
   ]
  },
  {
   "cell_type": "code",
   "execution_count": 4,
   "metadata": {},
   "outputs": [],
   "source": [
    "#Log transform the target\n",
    "y = np.log1p(y)"
   ]
  },
  {
   "cell_type": "code",
   "execution_count": 5,
   "metadata": {},
   "outputs": [
    {
     "data": {
      "text/plain": [
       "<Axes: >"
      ]
     },
     "execution_count": 5,
     "metadata": {},
     "output_type": "execute_result"
    },
    {
     "data": {
      "image/png": "[encoded data removed]",
      "text/plain": [
       "<Figure size 640x480 with 1 Axes>"
      ]
     },
     "metadata": {},
     "output_type": "display_data"
    }
   ],
   "source": [
    "y.hist()"
   ]
  },
  {
   "cell_type": "code",
   "execution_count": 6,
   "metadata": {},
   "outputs": [],
   "source": [
    "# #one-hot encode features\n",
    "# X = pd.get_dummies(X)"
   ]
  },
  {
   "cell_type": "markdown",
   "metadata": {},
   "source": [
    "### train test split"
   ]
  },
  {
   "cell_type": "code",
   "execution_count": 7,
   "metadata": {},
   "outputs": [],
   "source": [
    "# Split the data into training and testing sets\n",
    "X_train, X_test, y_train, y_test = train_test_split(X, y, test_size=0.2, random_state=42)"
   ]
  },
  {
   "cell_type": "markdown",
   "metadata": {},
   "source": [
    "### safe data for catboost model (can handle categorical data)"
   ]
  },
  {
   "cell_type": "code",
   "execution_count": 8,
   "metadata": {},
   "outputs": [],
   "source": [
    "# save X_train, X_test, y_train, y_test in csv files without dummy encoding\n",
    "X_train.to_csv('../data/X_train_wodum.csv', index=False)\n",
    "X_test.to_csv('../data/X_test_wodum.csv', index=False)\n",
    "y_train.to_csv('../data/y_train_wodum.csv', index=False)\n",
    "y_test.to_csv('../data/y_test_wodum.csv', index=False)"
   ]
  },
  {
   "cell_type": "code",
   "execution_count": 9,
   "metadata": {},
   "outputs": [
    {
     "name": "stdout",
     "output_type": "stream",
     "text": [
      "<class 'pandas.core.frame.DataFrame'>\n",
      "Index: 74943 entries, 65956 to 15795\n",
      "Data columns (total 11 columns):\n",
      " #   Column           Non-Null Count  Dtype  \n",
      "---  ------           --------------  -----  \n",
      " 0   airline          74943 non-null  object \n",
      " 1   std_day          74943 non-null  object \n",
      " 2   sta_day          74943 non-null  object \n",
      " 3   std_month        74943 non-null  object \n",
      " 4   sta_month        74943 non-null  object \n",
      " 5   std_time_dec     74943 non-null  float64\n",
      " 6   iso_country_dep  74943 non-null  object \n",
      " 7   type_dep         74943 non-null  object \n",
      " 8   iso_country_arr  74943 non-null  object \n",
      " 9   type_arr         74943 non-null  object \n",
      " 10  is_same_country  74943 non-null  bool   \n",
      "dtypes: bool(1), float64(1), object(9)\n",
      "memory usage: 6.4+ MB\n"
     ]
    }
   ],
   "source": [
    "X_train.info()"
   ]
  },
  {
   "cell_type": "markdown",
   "metadata": {},
   "source": [
    "### use scaler on time"
   ]
  },
  {
   "cell_type": "code",
   "execution_count": 10,
   "metadata": {},
   "outputs": [],
   "source": [
    "# scaler = StandardScaler()\n",
    "\n",
    "# # Fit and transform the specified columns\n",
    "# X_train[['sta_time_dec', 'std_time_dec']] = scaler.fit_transform(X_train[['sta_time_dec', 'std_time_dec']])\n",
    "# X_test[['sta_time_dec', 'std_time_dec']] = scaler.transform(X_test[['sta_time_dec', 'std_time_dec']])"
   ]
  },
  {
   "cell_type": "markdown",
   "metadata": {},
   "source": [
    "### make dummie variables (after train test split, as data needed for catboost)"
   ]
  },
  {
   "cell_type": "code",
   "execution_count": 11,
   "metadata": {},
   "outputs": [],
   "source": [
    "#make dummie variables\n",
    "\n",
    "# Define categorical, boolean, and numerical features\n",
    "categorical_features = [\n",
    "    'airline', 'std_day', 'sta_day', 'std_month', 'sta_month', 'iso_country_dep', 'iso_country_arr', 'type_dep', 'type_arr'\n",
    "]\n",
    "boolean_features = ['is_same_country']\n",
    "numerical_features = ['std_time_dec']  # Add other numerical features here\n",
    "\n",
    "# Initialize transformers\n",
    "one_hot = OneHotEncoder(handle_unknown='ignore', sparse_output=False)\n",
    "\n",
    "# Create a ColumnTransformer\n",
    "preprocessor = ColumnTransformer(\n",
    "    transformers=[\n",
    "        ('one_hot', one_hot, categorical_features),\n",
    "        ('passthrough', 'passthrough', boolean_features + numerical_features)  \n",
    "    ])\n",
    "\n",
    "# Fit and transform data\n",
    "preprocessor.fit(X_train)\n",
    "X_train_encoded = preprocessor.transform(X_train)\n",
    "X_test_encoded = preprocessor.transform(X_test)\n",
    "\n",
    "# Get the feature names from the preprocessor\n",
    "feature_names = preprocessor.get_feature_names_out()\n",
    "\n",
    "# Convert X_train_encoded and X_test_encoded to DataFrames\n",
    "X_train = pd.DataFrame(X_train_encoded, columns=feature_names)\n",
    "X_test = pd.DataFrame(X_test_encoded, columns=feature_names)"
   ]
  },
  {
   "cell_type": "code",
   "execution_count": 12,
   "metadata": {},
   "outputs": [
    {
     "data": {
      "text/html": [
       "<div>\n",
       "<style scoped>\n",
       "    .dataframe tbody tr th:only-of-type {\n",
       "        vertical-align: middle;\n",
       "    }\n",
       "\n",
       "    .dataframe tbody tr th {\n",
       "        vertical-align: top;\n",
       "    }\n",
       "\n",
       "    .dataframe thead th {\n",
       "        text-align: right;\n",
       "    }\n",
       "</style>\n",
       "<table border=\"1\" class=\"dataframe\">\n",
       "  <thead>\n",
       "    <tr style=\"text-align: right;\">\n",
       "      <th></th>\n",
       "      <th>one_hot__airline_5K</th>\n",
       "      <th>one_hot__airline_5M</th>\n",
       "      <th>one_hot__airline_6P</th>\n",
       "      <th>one_hot__airline_BJ</th>\n",
       "      <th>one_hot__airline_D4</th>\n",
       "      <th>one_hot__airline_GJ</th>\n",
       "      <th>one_hot__airline_GW</th>\n",
       "      <th>one_hot__airline_OL</th>\n",
       "      <th>one_hot__airline_PS</th>\n",
       "      <th>one_hot__airline_QS</th>\n",
       "      <th>...</th>\n",
       "      <th>one_hot__iso_country_arr_TR</th>\n",
       "      <th>one_hot__iso_country_arr_UA</th>\n",
       "      <th>one_hot__type_dep_large_airport</th>\n",
       "      <th>one_hot__type_dep_medium_airport</th>\n",
       "      <th>one_hot__type_dep_small_airport</th>\n",
       "      <th>one_hot__type_arr_large_airport</th>\n",
       "      <th>one_hot__type_arr_medium_airport</th>\n",
       "      <th>one_hot__type_arr_small_airport</th>\n",
       "      <th>passthrough__is_same_country</th>\n",
       "      <th>passthrough__std_time_dec</th>\n",
       "    </tr>\n",
       "  </thead>\n",
       "  <tbody>\n",
       "    <tr>\n",
       "      <th>0</th>\n",
       "      <td>0.0</td>\n",
       "      <td>0.0</td>\n",
       "      <td>0.0</td>\n",
       "      <td>0.0</td>\n",
       "      <td>0.0</td>\n",
       "      <td>0.0</td>\n",
       "      <td>0.0</td>\n",
       "      <td>0.0</td>\n",
       "      <td>0.0</td>\n",
       "      <td>0.0</td>\n",
       "      <td>...</td>\n",
       "      <td>0.0</td>\n",
       "      <td>0.0</td>\n",
       "      <td>1.0</td>\n",
       "      <td>0.0</td>\n",
       "      <td>0.0</td>\n",
       "      <td>1.0</td>\n",
       "      <td>0.0</td>\n",
       "      <td>0.0</td>\n",
       "      <td>False</td>\n",
       "      <td>11.4</td>\n",
       "    </tr>\n",
       "    <tr>\n",
       "      <th>1</th>\n",
       "      <td>0.0</td>\n",
       "      <td>0.0</td>\n",
       "      <td>0.0</td>\n",
       "      <td>0.0</td>\n",
       "      <td>0.0</td>\n",
       "      <td>0.0</td>\n",
       "      <td>0.0</td>\n",
       "      <td>0.0</td>\n",
       "      <td>0.0</td>\n",
       "      <td>0.0</td>\n",
       "      <td>...</td>\n",
       "      <td>0.0</td>\n",
       "      <td>0.0</td>\n",
       "      <td>0.0</td>\n",
       "      <td>1.0</td>\n",
       "      <td>0.0</td>\n",
       "      <td>0.0</td>\n",
       "      <td>1.0</td>\n",
       "      <td>0.0</td>\n",
       "      <td>False</td>\n",
       "      <td>18.2</td>\n",
       "    </tr>\n",
       "    <tr>\n",
       "      <th>2</th>\n",
       "      <td>0.0</td>\n",
       "      <td>0.0</td>\n",
       "      <td>0.0</td>\n",
       "      <td>0.0</td>\n",
       "      <td>0.0</td>\n",
       "      <td>0.0</td>\n",
       "      <td>0.0</td>\n",
       "      <td>0.0</td>\n",
       "      <td>0.0</td>\n",
       "      <td>0.0</td>\n",
       "      <td>...</td>\n",
       "      <td>0.0</td>\n",
       "      <td>0.0</td>\n",
       "      <td>1.0</td>\n",
       "      <td>0.0</td>\n",
       "      <td>0.0</td>\n",
       "      <td>1.0</td>\n",
       "      <td>0.0</td>\n",
       "      <td>0.0</td>\n",
       "      <td>False</td>\n",
       "      <td>13.8</td>\n",
       "    </tr>\n",
       "    <tr>\n",
       "      <th>3</th>\n",
       "      <td>0.0</td>\n",
       "      <td>0.0</td>\n",
       "      <td>0.0</td>\n",
       "      <td>0.0</td>\n",
       "      <td>0.0</td>\n",
       "      <td>0.0</td>\n",
       "      <td>0.0</td>\n",
       "      <td>0.0</td>\n",
       "      <td>0.0</td>\n",
       "      <td>0.0</td>\n",
       "      <td>...</td>\n",
       "      <td>0.0</td>\n",
       "      <td>0.0</td>\n",
       "      <td>1.0</td>\n",
       "      <td>0.0</td>\n",
       "      <td>0.0</td>\n",
       "      <td>0.0</td>\n",
       "      <td>1.0</td>\n",
       "      <td>0.0</td>\n",
       "      <td>False</td>\n",
       "      <td>9.3</td>\n",
       "    </tr>\n",
       "    <tr>\n",
       "      <th>4</th>\n",
       "      <td>0.0</td>\n",
       "      <td>0.0</td>\n",
       "      <td>0.0</td>\n",
       "      <td>0.0</td>\n",
       "      <td>0.0</td>\n",
       "      <td>0.0</td>\n",
       "      <td>0.0</td>\n",
       "      <td>0.0</td>\n",
       "      <td>0.0</td>\n",
       "      <td>0.0</td>\n",
       "      <td>...</td>\n",
       "      <td>0.0</td>\n",
       "      <td>0.0</td>\n",
       "      <td>1.0</td>\n",
       "      <td>0.0</td>\n",
       "      <td>0.0</td>\n",
       "      <td>0.0</td>\n",
       "      <td>1.0</td>\n",
       "      <td>0.0</td>\n",
       "      <td>False</td>\n",
       "      <td>10.0</td>\n",
       "    </tr>\n",
       "  </tbody>\n",
       "</table>\n",
       "<p>5 rows × 159 columns</p>\n",
       "</div>"
      ],
      "text/plain": [
       "  one_hot__airline_5K one_hot__airline_5M one_hot__airline_6P   \n",
       "0                 0.0                 0.0                 0.0  \\\n",
       "1                 0.0                 0.0                 0.0   \n",
       "2                 0.0                 0.0                 0.0   \n",
       "3                 0.0                 0.0                 0.0   \n",
       "4                 0.0                 0.0                 0.0   \n",
       "\n",
       "  one_hot__airline_BJ one_hot__airline_D4 one_hot__airline_GJ   \n",
       "0                 0.0                 0.0                 0.0  \\\n",
       "1                 0.0                 0.0                 0.0   \n",
       "2                 0.0                 0.0                 0.0   \n",
       "3                 0.0                 0.0                 0.0   \n",
       "4                 0.0                 0.0                 0.0   \n",
       "\n",
       "  one_hot__airline_GW one_hot__airline_OL one_hot__airline_PS   \n",
       "0                 0.0                 0.0                 0.0  \\\n",
       "1                 0.0                 0.0                 0.0   \n",
       "2                 0.0                 0.0                 0.0   \n",
       "3                 0.0                 0.0                 0.0   \n",
       "4                 0.0                 0.0                 0.0   \n",
       "\n",
       "  one_hot__airline_QS  ... one_hot__iso_country_arr_TR   \n",
       "0                 0.0  ...                         0.0  \\\n",
       "1                 0.0  ...                         0.0   \n",
       "2                 0.0  ...                         0.0   \n",
       "3                 0.0  ...                         0.0   \n",
       "4                 0.0  ...                         0.0   \n",
       "\n",
       "  one_hot__iso_country_arr_UA one_hot__type_dep_large_airport   \n",
       "0                         0.0                             1.0  \\\n",
       "1                         0.0                             0.0   \n",
       "2                         0.0                             1.0   \n",
       "3                         0.0                             1.0   \n",
       "4                         0.0                             1.0   \n",
       "\n",
       "  one_hot__type_dep_medium_airport one_hot__type_dep_small_airport   \n",
       "0                              0.0                             0.0  \\\n",
       "1                              1.0                             0.0   \n",
       "2                              0.0                             0.0   \n",
       "3                              0.0                             0.0   \n",
       "4                              0.0                             0.0   \n",
       "\n",
       "  one_hot__type_arr_large_airport one_hot__type_arr_medium_airport   \n",
       "0                             1.0                              0.0  \\\n",
       "1                             0.0                              1.0   \n",
       "2                             1.0                              0.0   \n",
       "3                             0.0                              1.0   \n",
       "4                             0.0                              1.0   \n",
       "\n",
       "  one_hot__type_arr_small_airport passthrough__is_same_country   \n",
       "0                             0.0                        False  \\\n",
       "1                             0.0                        False   \n",
       "2                             0.0                        False   \n",
       "3                             0.0                        False   \n",
       "4                             0.0                        False   \n",
       "\n",
       "  passthrough__std_time_dec  \n",
       "0                      11.4  \n",
       "1                      18.2  \n",
       "2                      13.8  \n",
       "3                       9.3  \n",
       "4                      10.0  \n",
       "\n",
       "[5 rows x 159 columns]"
      ]
     },
     "execution_count": 12,
     "metadata": {},
     "output_type": "execute_result"
    }
   ],
   "source": [
    "X_train.head()"
   ]
  },
  {
   "cell_type": "markdown",
   "metadata": {},
   "source": [
    "### save the data"
   ]
  },
  {
   "cell_type": "code",
   "execution_count": 13,
   "metadata": {},
   "outputs": [],
   "source": [
    "# save X_train, X_test, y_train, y_test in csv files\n",
    "X_train.to_csv('../data/X_train.csv', index=False)\n",
    "X_test.to_csv('../data/X_test.csv', index=False)\n",
    "y_train.to_csv('../data/y_train.csv', index=False)\n",
    "y_test.to_csv('../data/y_test.csv', index=False)"
   ]
  },
  {
   "cell_type": "markdown",
   "metadata": {},
   "source": [
    "## maybe scaling of features, as distribution is skewed"
   ]
  },
  {
   "cell_type": "code",
   "execution_count": 14,
   "metadata": {},
   "outputs": [],
   "source": [
    "# # Create histograms for every feature in the dataframe\n",
    "# for column in df.columns:\n",
    "#     plt.figure(figsize=(10, 6))\n",
    "#     sns.histplot(df[column], kde=True)\n",
    "#     plt.title(f'Histogram of {column}')\n",
    "#     plt.show()"
   ]
  }
 ],
 "metadata": {
  "kernelspec": {
   "display_name": ".venv",
   "language": "python",
   "name": "python3"
  },
  "language_info": {
   "codemirror_mode": {
    "name": "ipython",
    "version": 3
   },
   "file_extension": ".py",
   "mimetype": "text/x-python",
   "name": "python",
   "nbconvert_exporter": "python",
   "pygments_lexer": "ipython3",
   "version": "3.11.3"
  }
 },
 "nbformat": 4,
 "nbformat_minor": 4
}
