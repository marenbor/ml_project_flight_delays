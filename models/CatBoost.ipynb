{
 "cells": [
  {
   "cell_type": "code",
   "execution_count": 14,
   "metadata": {},
   "outputs": [],
   "source": [
    "# Import the necessary packages\n",
    "import os\n",
    "\n",
    "# For calculating\n",
    "import pandas as pd\n",
    "import numpy as np\n",
    "import warnings\n",
    "warnings.filterwarnings('ignore')\n",
    "\n",
    "#for modeling\n",
    "from sklearn.model_selection import train_test_split, RandomizedSearchCV, GridSearchCV\n",
    "from sklearn.linear_model import LinearRegression, LogisticRegression\n",
    "from sklearn.metrics import mean_absolute_error, mean_squared_error, r2_score, make_scorer\n",
    "import math\n",
    "from sklearn.preprocessing import StandardScaler\n",
    "from sklearn.ensemble import RandomForestRegressor\n",
    "from xgboost import XGBRegressor\n",
    "from catboost import CatBoostRegressor\n",
    "\n",
    "# for plotting\n",
    "import matplotlib.pyplot as plt\n",
    "import seaborn as sns\n",
    "\n",
    "\n"
   ]
  },
  {
   "cell_type": "code",
   "execution_count": 3,
   "metadata": {},
   "outputs": [],
   "source": [
    "X_train = pd.read_csv(\"../data/X_train_wodum.csv\")\n",
    "y_train = pd.read_csv(\"../data/y_train_wodum.csv\")\n",
    "X_test = pd.read_csv(\"../data/X_test_wodum.csv\")\n",
    "y_test = pd.read_csv(\"../data/y_test_wodum.csv\")"
   ]
  },
  {
   "cell_type": "code",
   "execution_count": 4,
   "metadata": {},
   "outputs": [
    {
     "data": {
      "text/html": [
       "<div>\n",
       "<style scoped>\n",
       "    .dataframe tbody tr th:only-of-type {\n",
       "        vertical-align: middle;\n",
       "    }\n",
       "\n",
       "    .dataframe tbody tr th {\n",
       "        vertical-align: top;\n",
       "    }\n",
       "\n",
       "    .dataframe thead th {\n",
       "        text-align: right;\n",
       "    }\n",
       "</style>\n",
       "<table border=\"1\" class=\"dataframe\">\n",
       "  <thead>\n",
       "    <tr style=\"text-align: right;\">\n",
       "      <th></th>\n",
       "      <th>ac</th>\n",
       "      <th>s_std_day_year</th>\n",
       "      <th>c_std_day_year</th>\n",
       "      <th>std_day</th>\n",
       "      <th>sta_day</th>\n",
       "      <th>std_month</th>\n",
       "      <th>sta_month</th>\n",
       "      <th>std_time_dec</th>\n",
       "      <th>s_std_time_dec</th>\n",
       "      <th>c_std_time_dec</th>\n",
       "      <th>iso_country_dep</th>\n",
       "      <th>type_dep</th>\n",
       "      <th>iso_country_arr</th>\n",
       "      <th>type_arr</th>\n",
       "      <th>is_same_country</th>\n",
       "    </tr>\n",
       "  </thead>\n",
       "  <tbody>\n",
       "    <tr>\n",
       "      <th>0</th>\n",
       "      <td>TU 32AIMN</td>\n",
       "      <td>0.746972</td>\n",
       "      <td>0.664855</td>\n",
       "      <td>Sunday</td>\n",
       "      <td>Sunday</td>\n",
       "      <td>February</td>\n",
       "      <td>February</td>\n",
       "      <td>11.4</td>\n",
       "      <td>0.156434</td>\n",
       "      <td>-0.987688</td>\n",
       "      <td>BE</td>\n",
       "      <td>large_airport</td>\n",
       "      <td>TN</td>\n",
       "      <td>large_airport</td>\n",
       "      <td>False</td>\n",
       "    </tr>\n",
       "    <tr>\n",
       "      <th>1</th>\n",
       "      <td>TU 736IOR</td>\n",
       "      <td>0.835925</td>\n",
       "      <td>-0.548843</td>\n",
       "      <td>Friday</td>\n",
       "      <td>Friday</td>\n",
       "      <td>May</td>\n",
       "      <td>May</td>\n",
       "      <td>18.2</td>\n",
       "      <td>-0.998630</td>\n",
       "      <td>0.052336</td>\n",
       "      <td>FR</td>\n",
       "      <td>medium_airport</td>\n",
       "      <td>TN</td>\n",
       "      <td>medium_airport</td>\n",
       "      <td>False</td>\n",
       "    </tr>\n",
       "    <tr>\n",
       "      <th>2</th>\n",
       "      <td>TU 32AIMG</td>\n",
       "      <td>0.471160</td>\n",
       "      <td>-0.882048</td>\n",
       "      <td>Saturday</td>\n",
       "      <td>Saturday</td>\n",
       "      <td>June</td>\n",
       "      <td>June</td>\n",
       "      <td>13.8</td>\n",
       "      <td>-0.453990</td>\n",
       "      <td>-0.891007</td>\n",
       "      <td>FR</td>\n",
       "      <td>large_airport</td>\n",
       "      <td>TN</td>\n",
       "      <td>large_airport</td>\n",
       "      <td>False</td>\n",
       "    </tr>\n",
       "    <tr>\n",
       "      <th>3</th>\n",
       "      <td>TU 31AIMJ</td>\n",
       "      <td>0.463550</td>\n",
       "      <td>0.886071</td>\n",
       "      <td>Saturday</td>\n",
       "      <td>Saturday</td>\n",
       "      <td>January</td>\n",
       "      <td>January</td>\n",
       "      <td>9.3</td>\n",
       "      <td>0.649448</td>\n",
       "      <td>-0.760406</td>\n",
       "      <td>DE</td>\n",
       "      <td>large_airport</td>\n",
       "      <td>TN</td>\n",
       "      <td>medium_airport</td>\n",
       "      <td>False</td>\n",
       "    </tr>\n",
       "    <tr>\n",
       "      <th>4</th>\n",
       "      <td>TU 736IOR</td>\n",
       "      <td>-0.845249</td>\n",
       "      <td>-0.534373</td>\n",
       "      <td>Wednesday</td>\n",
       "      <td>Wednesday</td>\n",
       "      <td>August</td>\n",
       "      <td>August</td>\n",
       "      <td>10.0</td>\n",
       "      <td>0.500000</td>\n",
       "      <td>-0.866025</td>\n",
       "      <td>SI</td>\n",
       "      <td>large_airport</td>\n",
       "      <td>TN</td>\n",
       "      <td>medium_airport</td>\n",
       "      <td>False</td>\n",
       "    </tr>\n",
       "  </tbody>\n",
       "</table>\n",
       "</div>"
      ],
      "text/plain": [
       "          ac  s_std_day_year  c_std_day_year    std_day    sta_day std_month   \n",
       "0  TU 32AIMN        0.746972        0.664855     Sunday     Sunday  February  \\\n",
       "1  TU 736IOR        0.835925       -0.548843     Friday     Friday       May   \n",
       "2  TU 32AIMG        0.471160       -0.882048   Saturday   Saturday      June   \n",
       "3  TU 31AIMJ        0.463550        0.886071   Saturday   Saturday   January   \n",
       "4  TU 736IOR       -0.845249       -0.534373  Wednesday  Wednesday    August   \n",
       "\n",
       "  sta_month  std_time_dec  s_std_time_dec  c_std_time_dec iso_country_dep   \n",
       "0  February          11.4        0.156434       -0.987688              BE  \\\n",
       "1       May          18.2       -0.998630        0.052336              FR   \n",
       "2      June          13.8       -0.453990       -0.891007              FR   \n",
       "3   January           9.3        0.649448       -0.760406              DE   \n",
       "4    August          10.0        0.500000       -0.866025              SI   \n",
       "\n",
       "         type_dep iso_country_arr        type_arr  is_same_country  \n",
       "0   large_airport              TN   large_airport            False  \n",
       "1  medium_airport              TN  medium_airport            False  \n",
       "2   large_airport              TN   large_airport            False  \n",
       "3   large_airport              TN  medium_airport            False  \n",
       "4   large_airport              TN  medium_airport            False  "
      ]
     },
     "execution_count": 4,
     "metadata": {},
     "output_type": "execute_result"
    }
   ],
   "source": [
    "X_train.head()"
   ]
  },
  {
   "cell_type": "code",
   "execution_count": 5,
   "metadata": {},
   "outputs": [
    {
     "name": "stdout",
     "output_type": "stream",
     "text": [
      "<class 'pandas.core.frame.DataFrame'>\n",
      "RangeIndex: 74943 entries, 0 to 74942\n",
      "Data columns (total 15 columns):\n",
      " #   Column           Non-Null Count  Dtype  \n",
      "---  ------           --------------  -----  \n",
      " 0   ac               74943 non-null  object \n",
      " 1   s_std_day_year   74943 non-null  float64\n",
      " 2   c_std_day_year   74943 non-null  float64\n",
      " 3   std_day          74943 non-null  object \n",
      " 4   sta_day          74943 non-null  object \n",
      " 5   std_month        74943 non-null  object \n",
      " 6   sta_month        74943 non-null  object \n",
      " 7   std_time_dec     74943 non-null  float64\n",
      " 8   s_std_time_dec   74943 non-null  float64\n",
      " 9   c_std_time_dec   74943 non-null  float64\n",
      " 10  iso_country_dep  74943 non-null  object \n",
      " 11  type_dep         74943 non-null  object \n",
      " 12  iso_country_arr  74943 non-null  object \n",
      " 13  type_arr         74943 non-null  object \n",
      " 14  is_same_country  74943 non-null  bool   \n",
      "dtypes: bool(1), float64(5), object(9)\n",
      "memory usage: 8.1+ MB\n"
     ]
    }
   ],
   "source": [
    "X_train.info()"
   ]
  },
  {
   "cell_type": "markdown",
   "metadata": {},
   "source": [
    "### CatBoost with default parameters"
   ]
  },
  {
   "cell_type": "code",
   "execution_count": 6,
   "metadata": {},
   "outputs": [],
   "source": [
    "# # Initialize the CatBoostRegressor with indices\n",
    "# model = CatBoostRegressor(learning_rate=0.1, l2_leaf_reg=1, iterations=500, depth=10, verbose=0)\n",
    "\n",
    "# # Fit the model\n",
    "# model.fit(X_train, y_train)"
   ]
  },
  {
   "cell_type": "code",
   "execution_count": 7,
   "metadata": {},
   "outputs": [
    {
     "name": "stdout",
     "output_type": "stream",
     "text": [
      "<class 'pandas.core.frame.DataFrame'>\n",
      "RangeIndex: 74943 entries, 0 to 74942\n",
      "Data columns (total 15 columns):\n",
      " #   Column           Non-Null Count  Dtype  \n",
      "---  ------           --------------  -----  \n",
      " 0   ac               74943 non-null  object \n",
      " 1   s_std_day_year   74943 non-null  float64\n",
      " 2   c_std_day_year   74943 non-null  float64\n",
      " 3   std_day          74943 non-null  object \n",
      " 4   sta_day          74943 non-null  object \n",
      " 5   std_month        74943 non-null  object \n",
      " 6   sta_month        74943 non-null  object \n",
      " 7   std_time_dec     74943 non-null  float64\n",
      " 8   s_std_time_dec   74943 non-null  float64\n",
      " 9   c_std_time_dec   74943 non-null  float64\n",
      " 10  iso_country_dep  74943 non-null  object \n",
      " 11  type_dep         74943 non-null  object \n",
      " 12  iso_country_arr  74943 non-null  object \n",
      " 13  type_arr         74943 non-null  object \n",
      " 14  is_same_country  74943 non-null  bool   \n",
      "dtypes: bool(1), float64(5), object(9)\n",
      "memory usage: 8.1+ MB\n"
     ]
    }
   ],
   "source": [
    "X_train.info()"
   ]
  },
  {
   "cell_type": "code",
   "execution_count": 8,
   "metadata": {},
   "outputs": [
    {
     "data": {
      "text/plain": [
       "<catboost.core.CatBoostRegressor at 0x147d26290>"
      ]
     },
     "execution_count": 8,
     "metadata": {},
     "output_type": "execute_result"
    }
   ],
   "source": [
    "#for y_test without dummies\n",
    "\n",
    "cat_features_indices = [X_train.columns.get_loc(col) for col in [\n",
    "    'std_day', 'sta_day', 'std_month', 'sta_month',\n",
    "    'iso_country_dep', 'type_dep',\n",
    "    'iso_country_arr', 'type_arr', 'is_same_country', 'ac'\n",
    "]]\n",
    "\n",
    "# Initialize the CatBoostRegressor with indices\n",
    "model = CatBoostRegressor(cat_features=cat_features_indices, learning_rate=0.1, l2_leaf_reg=1, iterations=500, depth=10, verbose=0)\n",
    "\n",
    "# Fit the model\n",
    "model.fit(X_train, y_train)"
   ]
  },
  {
   "cell_type": "code",
   "execution_count": 9,
   "metadata": {},
   "outputs": [
    {
     "name": "stdout",
     "output_type": "stream",
     "text": [
      "            Feature  Importance\n",
      "0                ac   14.470129\n",
      "1    s_std_day_year   14.250323\n",
      "2    c_std_day_year   12.686121\n",
      "3           std_day    7.106240\n",
      "8    s_std_time_dec    6.648694\n",
      "10  iso_country_dep    6.459893\n",
      "9    c_std_time_dec    6.394840\n",
      "7      std_time_dec    5.244183\n",
      "4           sta_day    5.143190\n",
      "5         std_month    4.853708\n",
      "12  iso_country_arr    4.447779\n",
      "13         type_arr    4.002766\n",
      "11         type_dep    3.905304\n",
      "6         sta_month    3.786979\n",
      "14  is_same_country    0.599850\n"
     ]
    }
   ],
   "source": [
    "# Get feature importance\n",
    "feature_importance = model.get_feature_importance()\n",
    "\n",
    "# Create a DataFrame for better visualization\n",
    "feature_importance_df = pd.DataFrame({\n",
    "    'Feature': X_train.columns,\n",
    "    'Importance': feature_importance\n",
    "})\n",
    "\n",
    "# Sort the DataFrame by importance\n",
    "feature_importance_df = feature_importance_df.sort_values(by='Importance', ascending=False)\n",
    "\n",
    "# Display the feature importance\n",
    "print(feature_importance_df.head(20))"
   ]
  },
  {
   "cell_type": "code",
   "execution_count": 10,
   "metadata": {},
   "outputs": [
    {
     "data": {
      "image/png": "[encoded data removed]",
      "text/plain": [
       "<Figure size 1000x600 with 1 Axes>"
      ]
     },
     "metadata": {},
     "output_type": "display_data"
    }
   ],
   "source": [
    "# Sort the DataFrame by importance\n",
    "feature_importance_df = feature_importance_df.sort_values(by='Importance', ascending=False)\n",
    "\n",
    "# Extract the top 10 features\n",
    "top_10_features = feature_importance_df.head(10)\n",
    "\n",
    "# Create a bar plot for the top 10 features\n",
    "plt.figure(figsize=(10, 6))\n",
    "plt.barh(top_10_features['Feature'], top_10_features['Importance'], color='skyblue')\n",
    "plt.xlabel('Importance')\n",
    "plt.ylabel('Feature')\n",
    "plt.title('Top 10 Features by Importance')\n",
    "plt.gca().invert_yaxis()  # Invert y-axis to show the most important feature at the top\n",
    "plt.show()"
   ]
  },
  {
   "cell_type": "code",
   "execution_count": 11,
   "metadata": {},
   "outputs": [],
   "source": [
    "# Make predictions\n",
    "y_pred_test = model.predict(X_test)\n",
    "y_pred_train = model.predict(X_train)"
   ]
  },
  {
   "cell_type": "code",
   "execution_count": 12,
   "metadata": {},
   "outputs": [],
   "source": [
    "# # retransform np.log1p transformed y_test\n",
    "\n",
    "# y_pred_test = np.expm1(y_pred_test)\n",
    "\n",
    "# y_pred_train = np.expm1(y_pred_train)\n",
    "# y_train = np.expm1(y_train) "
   ]
  },
  {
   "cell_type": "code",
   "execution_count": 13,
   "metadata": {},
   "outputs": [
    {
     "name": "stdout",
     "output_type": "stream",
     "text": [
      "Mean Squared Error: 10769.071879731722\n",
      "Mean Absolute Error: 50.767357157786876\n",
      "R^2: 0.28909460316433333\n"
     ]
    }
   ],
   "source": [
    "# Evaluate the model on training set\n",
    "mse = mean_squared_error(y_train, y_pred_train)\n",
    "mae = mean_absolute_error(y_train, y_pred_train)\n",
    "r2 = r2_score(y_train, y_pred_train)\n",
    "\n",
    "print(f'Mean Squared Error: {mse}')\n",
    "print(f'Mean Absolute Error: {mae}')\n",
    "print(f'R^2: {r2}')"
   ]
  },
  {
   "cell_type": "code",
   "execution_count": 15,
   "metadata": {},
   "outputs": [
    {
     "name": "stdout",
     "output_type": "stream",
     "text": [
      "Mean Squared Error: 13767.199627396512\n",
      "Mean Absolute Error: 55.035187916072566\n",
      "Root Mean Squared Error: 117.33371053280686\n",
      "R^2: 0.10451678520912333\n"
     ]
    }
   ],
   "source": [
    "# Evaluate the model on test set\n",
    "mse = mean_squared_error(y_test, y_pred_test)\n",
    "mae = mean_absolute_error(y_test, y_pred_test)\n",
    "r2 = r2_score(y_test, y_pred_test)\n",
    "rmse = math.sqrt(mse)\n",
    "\n",
    "print(f'Mean Squared Error: {mse}')\n",
    "print(f'Mean Absolute Error: {mae}')\n",
    "print(f'Root Mean Squared Error: {rmse}')\n",
    "print(f'R^2: {r2}')"
   ]
  },
  {
   "cell_type": "code",
   "execution_count": 14,
   "metadata": {},
   "outputs": [
    {
     "data": {
      "image/png": "[encoded data removed]",
      "text/plain": [
       "<Figure size 1000x600 with 1 Axes>"
      ]
     },
     "metadata": {},
     "output_type": "display_data"
    }
   ],
   "source": [
    "# Calculate residuals\n",
    "residuals = y_test.values.flatten() - y_pred_test\n",
    "\n",
    "# Standardize residuals\n",
    "standardized_residuals = residuals / np.std(residuals)\n",
    "\n",
    "# Create a residual plot\n",
    "plt.figure(figsize=(10, 6))\n",
    "plt.scatter(y_pred_test, standardized_residuals, alpha=0.5)\n",
    "plt.axhline(y=0, color='r', linestyle='--')\n",
    "plt.xlabel('Predicted Value')\n",
    "plt.ylabel('Standardized Residual')\n",
    "plt.title('Residual Plot')\n",
    "plt.show()"
   ]
  },
  {
   "cell_type": "code",
   "execution_count": 15,
   "metadata": {},
   "outputs": [
    {
     "data": {
      "image/png": "[encoded data removed]",
      "text/plain": [
       "<Figure size 640x480 with 1 Axes>"
      ]
     },
     "metadata": {},
     "output_type": "display_data"
    }
   ],
   "source": [
    "plt.scatter(y_pred_test, y_test) \n",
    "plt.ylabel(\"True values\")\n",
    "plt.xlabel(\"Predicted values\")\n",
    "plt.show()"
   ]
  },
  {
   "cell_type": "markdown",
   "metadata": {},
   "source": [
    "### hurdle method?"
   ]
  },
  {
   "cell_type": "markdown",
   "metadata": {},
   "source": [
    "### CatBoost with Grid Search"
   ]
  },
  {
   "cell_type": "code",
   "execution_count": 16,
   "metadata": {},
   "outputs": [],
   "source": [
    "# # Define the parameter grid for RandomizedSearchCV\n",
    "# param_grid = {\n",
    "#     'iterations': [100, 200, 300, 400, 500],\n",
    "#     'learning_rate': [0.01, 0.05, 0.1, 0.2, 0.3],\n",
    "#     'depth': [4, 6, 8, 10],\n",
    "#     'l2_leaf_reg': [1, 3, 5, 7, 9]\n",
    "# }\n",
    "\n",
    "# # Initialize the CatBoostRegressor\n",
    "# model_rand = CatBoostRegressor(random_seed=42)\n",
    "\n",
    "# # Create a scorer for Mean Squared Error\n",
    "# mse_scorer = make_scorer(mean_squared_error, greater_is_better=False)\n",
    "\n",
    "# # Initialize RandomizedSearchCV with MSE scorer\n",
    "# random_search = RandomizedSearchCV(\n",
    "#     estimator=model_rand,\n",
    "#     param_distributions=param_grid,  # Note: Use param_distributions here\n",
    "#     n_iter=50,  # Number of random parameter combinations to try\n",
    "#     scoring=mse_scorer,\n",
    "#     cv=5,  # 5-fold cross-validation\n",
    "#     verbose=1,\n",
    "#     return_train_score=True  # To get training scores\n",
    "# )"
   ]
  },
  {
   "cell_type": "code",
   "execution_count": 17,
   "metadata": {},
   "outputs": [],
   "source": [
    "# # Fit RandomizedSearchCV\n",
    "# random_search.fit(X_train, y_train)"
   ]
  },
  {
   "cell_type": "code",
   "execution_count": 18,
   "metadata": {},
   "outputs": [],
   "source": [
    "# # Get the best parameters and best score\n",
    "# best_params = random_search.best_params_\n",
    "# best_score = random_search.best_score_\n",
    "\n",
    "# # Display the results of cross-validation\n",
    "# print(\"Best Parameters:\", best_params)\n",
    "# print(\"Best Score (Validation MSE):\", best_score)"
   ]
  },
  {
   "cell_type": "markdown",
   "metadata": {},
   "source": [
    "Best Parameters: {'learning_rate': 0.1, 'l2_leaf_reg': 1, 'iterations': 500, 'depth': 10}\n",
    "Best Score (Validation MSE): -2.6230855530637895"
   ]
  },
  {
   "cell_type": "code",
   "execution_count": 19,
   "metadata": {},
   "outputs": [],
   "source": [
    "# # Display cross-validation results\n",
    "# cv_results = random_search.cv_results_\n",
    "\n",
    "# for i in range(len(cv_results['mean_test_score'])):\n",
    "#     print(f\"Parameter Set {i+1}: {cv_results['params'][i]}\")\n",
    "#     print(f\"Mean Test Score (MSE): {cv_results['mean_test_score'][i]}\")\n",
    "#     print(f\"Mean Train Score (MSE): {cv_results['mean_train_score'][i]}\")\n",
    "#     print(f\"Std Dev Test Score (MSE): {cv_results['std_test_score'][i]}\")\n",
    "#     print(f\"Std Dev Train Score (MSE): {cv_results['std_train_score'][i]}\\n\")"
   ]
  },
  {
   "cell_type": "code",
   "execution_count": 20,
   "metadata": {},
   "outputs": [],
   "source": [
    "# # Use the best model for predictions\n",
    "# best_model = random_search.best_estimator_"
   ]
  },
  {
   "cell_type": "code",
   "execution_count": 21,
   "metadata": {},
   "outputs": [],
   "source": [
    "# # Get feature importance\n",
    "# feature_importance = best_model.get_feature_importance()\n",
    "\n",
    "# # Create a DataFrame for better visualization\n",
    "# feature_importance_df = pd.DataFrame({\n",
    "#     'Feature': X_train.columns,\n",
    "#     'Importance': feature_importance\n",
    "# })\n",
    "\n",
    "# # Sort the DataFrame by importance\n",
    "# feature_importance_df = feature_importance_df.sort_values(by='Importance', ascending=False)\n",
    "\n",
    "# # Display the feature importance\n",
    "# print(feature_importance_df.head(20))"
   ]
  },
  {
   "cell_type": "code",
   "execution_count": 22,
   "metadata": {},
   "outputs": [],
   "source": [
    "# # Make predictions\n",
    "# y_pred_test = best_model.predict(X_test)\n",
    "# y_pred_train = best_model.predict(X_train)"
   ]
  },
  {
   "cell_type": "code",
   "execution_count": 23,
   "metadata": {},
   "outputs": [],
   "source": [
    "# # Evaluate the model on training set\n",
    "# mse = mean_squared_error(y_train, y_pred_train)\n",
    "# mae = mean_absolute_error(y_train, y_pred_train)\n",
    "# r2 = r2_score(y_train, y_pred_train)\n",
    "\n",
    "# print(f'Mean Squared Error: {mse}')\n",
    "# print(f'Mean Absolute Error: {mae}')\n",
    "# print(f'R^2: {r2}')"
   ]
  },
  {
   "cell_type": "code",
   "execution_count": 24,
   "metadata": {},
   "outputs": [],
   "source": [
    "# # Evaluate the model on test set\n",
    "# mse = mean_squared_error(y_test, y_pred_test)\n",
    "# mae = mean_absolute_error(y_test, y_pred_test)\n",
    "# r2 = r2_score(y_test, y_pred_test)\n",
    "\n",
    "# print(f'Mean Squared Error: {mse}')\n",
    "# print(f'Mean Absolute Error: {mae}')\n",
    "# print(f'R^2: {r2}')"
   ]
  },
  {
   "cell_type": "code",
   "execution_count": 25,
   "metadata": {},
   "outputs": [],
   "source": [
    "# # Calculate residuals\n",
    "# residuals = y_test.values.flatten() - y_pred_test\n",
    "\n",
    "# # Standardize residuals\n",
    "# standardized_residuals = residuals / np.std(residuals)\n",
    "\n",
    "# # Create a residual plot\n",
    "# plt.figure(figsize=(10, 6))\n",
    "# plt.scatter(y_pred_test, standardized_residuals, alpha=0.5)\n",
    "# plt.axhline(y=0, color='r', linestyle='--')\n",
    "# plt.xlabel('Predicted Value')\n",
    "# plt.ylabel('Standardized Residual')\n",
    "# plt.title('Residual Plot')\n",
    "# plt.show()"
   ]
  },
  {
   "cell_type": "code",
   "execution_count": 26,
   "metadata": {},
   "outputs": [],
   "source": [
    "# plt.scatter(y_pred_test, y_test) \n",
    "# plt.ylabel(\"True values\")\n",
    "# plt.xlabel(\"Predicted values\")\n",
    "# plt.show()"
   ]
  }
 ],
 "metadata": {
  "kernelspec": {
   "display_name": ".venv",
   "language": "python",
   "name": "python3"
  },
  "language_info": {
   "codemirror_mode": {
    "name": "ipython",
    "version": 3
   },
   "file_extension": ".py",
   "mimetype": "text/x-python",
   "name": "python",
   "nbconvert_exporter": "python",
   "pygments_lexer": "ipython3",
   "version": "3.11.3"
  }
 },
 "nbformat": 4,
 "nbformat_minor": 2
}
